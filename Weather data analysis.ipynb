{
 "cells": [
  {
   "cell_type": "markdown",
   "id": "34712297",
   "metadata": {},
   "source": [
    "# Weather Prediction"
   ]
  },
  {
   "cell_type": "markdown",
   "id": "3a645078",
   "metadata": {},
   "source": [
    "The dataset is taken from NOAA repository (https://www.ncdc.noaa.gov/cdo-web/datasets). Weather data contains temperature information for the city of Trivandrum, Kerala dating from 1996-11-17 to 2022-12-10."
   ]
  },
  {
   "cell_type": "code",
   "execution_count": 1,
   "id": "09e29d84",
   "metadata": {},
   "outputs": [],
   "source": [
    "# import libraries\n",
    "import pandas as pd"
   ]
  },
  {
   "cell_type": "code",
   "execution_count": 2,
   "id": "97511b85",
   "metadata": {},
   "outputs": [],
   "source": [
    "# read data and set date as index\n",
    "weather = pd.read_csv(r\"C:\\Users\\JINCY\\Desktop\\Study Material\\Datascience learning\\DataScience projects\\weather data.csv\",index_col=\"DATE\")"
   ]
  },
  {
   "cell_type": "code",
   "execution_count": 3,
   "id": "e044b19a",
   "metadata": {},
   "outputs": [
    {
     "data": {
      "text/html": [
       "<div>\n",
       "<style scoped>\n",
       "    .dataframe tbody tr th:only-of-type {\n",
       "        vertical-align: middle;\n",
       "    }\n",
       "\n",
       "    .dataframe tbody tr th {\n",
       "        vertical-align: top;\n",
       "    }\n",
       "\n",
       "    .dataframe thead th {\n",
       "        text-align: right;\n",
       "    }\n",
       "</style>\n",
       "<table border=\"1\" class=\"dataframe\">\n",
       "  <thead>\n",
       "    <tr style=\"text-align: right;\">\n",
       "      <th></th>\n",
       "      <th>STATION</th>\n",
       "      <th>NAME</th>\n",
       "      <th>PRCP</th>\n",
       "      <th>TAVG</th>\n",
       "      <th>TMAX</th>\n",
       "      <th>TMIN</th>\n",
       "    </tr>\n",
       "    <tr>\n",
       "      <th>DATE</th>\n",
       "      <th></th>\n",
       "      <th></th>\n",
       "      <th></th>\n",
       "      <th></th>\n",
       "      <th></th>\n",
       "      <th></th>\n",
       "    </tr>\n",
       "  </thead>\n",
       "  <tbody>\n",
       "    <tr>\n",
       "      <th>1996-11-17</th>\n",
       "      <td>IN010100400</td>\n",
       "      <td>THIRUVANANTHAPURAM, IN</td>\n",
       "      <td>0.00</td>\n",
       "      <td>79</td>\n",
       "      <td>NaN</td>\n",
       "      <td>73.0</td>\n",
       "    </tr>\n",
       "    <tr>\n",
       "      <th>1996-11-18</th>\n",
       "      <td>IN010100400</td>\n",
       "      <td>THIRUVANANTHAPURAM, IN</td>\n",
       "      <td>0.09</td>\n",
       "      <td>79</td>\n",
       "      <td>88.0</td>\n",
       "      <td>74.0</td>\n",
       "    </tr>\n",
       "    <tr>\n",
       "      <th>1996-11-19</th>\n",
       "      <td>IN010100400</td>\n",
       "      <td>THIRUVANANTHAPURAM, IN</td>\n",
       "      <td>0.03</td>\n",
       "      <td>80</td>\n",
       "      <td>90.0</td>\n",
       "      <td>75.0</td>\n",
       "    </tr>\n",
       "    <tr>\n",
       "      <th>1996-11-20</th>\n",
       "      <td>IN010100400</td>\n",
       "      <td>THIRUVANANTHAPURAM, IN</td>\n",
       "      <td>0.15</td>\n",
       "      <td>81</td>\n",
       "      <td>NaN</td>\n",
       "      <td>72.0</td>\n",
       "    </tr>\n",
       "    <tr>\n",
       "      <th>1996-11-21</th>\n",
       "      <td>IN010100400</td>\n",
       "      <td>THIRUVANANTHAPURAM, IN</td>\n",
       "      <td>0.17</td>\n",
       "      <td>79</td>\n",
       "      <td>86.0</td>\n",
       "      <td>73.0</td>\n",
       "    </tr>\n",
       "    <tr>\n",
       "      <th>...</th>\n",
       "      <td>...</td>\n",
       "      <td>...</td>\n",
       "      <td>...</td>\n",
       "      <td>...</td>\n",
       "      <td>...</td>\n",
       "      <td>...</td>\n",
       "    </tr>\n",
       "    <tr>\n",
       "      <th>2022-12-06</th>\n",
       "      <td>IN010100400</td>\n",
       "      <td>THIRUVANANTHAPURAM, IN</td>\n",
       "      <td>0.00</td>\n",
       "      <td>81</td>\n",
       "      <td>NaN</td>\n",
       "      <td>76.0</td>\n",
       "    </tr>\n",
       "    <tr>\n",
       "      <th>2022-12-07</th>\n",
       "      <td>IN010100400</td>\n",
       "      <td>THIRUVANANTHAPURAM, IN</td>\n",
       "      <td>NaN</td>\n",
       "      <td>81</td>\n",
       "      <td>92.0</td>\n",
       "      <td>75.0</td>\n",
       "    </tr>\n",
       "    <tr>\n",
       "      <th>2022-12-08</th>\n",
       "      <td>IN010100400</td>\n",
       "      <td>THIRUVANANTHAPURAM, IN</td>\n",
       "      <td>NaN</td>\n",
       "      <td>79</td>\n",
       "      <td>88.0</td>\n",
       "      <td>76.0</td>\n",
       "    </tr>\n",
       "    <tr>\n",
       "      <th>2022-12-09</th>\n",
       "      <td>IN010100400</td>\n",
       "      <td>THIRUVANANTHAPURAM, IN</td>\n",
       "      <td>0.01</td>\n",
       "      <td>80</td>\n",
       "      <td>85.0</td>\n",
       "      <td>76.0</td>\n",
       "    </tr>\n",
       "    <tr>\n",
       "      <th>2022-12-10</th>\n",
       "      <td>IN010100400</td>\n",
       "      <td>THIRUVANANTHAPURAM, IN</td>\n",
       "      <td>0.00</td>\n",
       "      <td>79</td>\n",
       "      <td>NaN</td>\n",
       "      <td>74.0</td>\n",
       "    </tr>\n",
       "  </tbody>\n",
       "</table>\n",
       "<p>9494 rows × 6 columns</p>\n",
       "</div>"
      ],
      "text/plain": [
       "                STATION                    NAME  PRCP  TAVG  TMAX  TMIN\n",
       "DATE                                                                   \n",
       "1996-11-17  IN010100400  THIRUVANANTHAPURAM, IN  0.00    79   NaN  73.0\n",
       "1996-11-18  IN010100400  THIRUVANANTHAPURAM, IN  0.09    79  88.0  74.0\n",
       "1996-11-19  IN010100400  THIRUVANANTHAPURAM, IN  0.03    80  90.0  75.0\n",
       "1996-11-20  IN010100400  THIRUVANANTHAPURAM, IN  0.15    81   NaN  72.0\n",
       "1996-11-21  IN010100400  THIRUVANANTHAPURAM, IN  0.17    79  86.0  73.0\n",
       "...                 ...                     ...   ...   ...   ...   ...\n",
       "2022-12-06  IN010100400  THIRUVANANTHAPURAM, IN  0.00    81   NaN  76.0\n",
       "2022-12-07  IN010100400  THIRUVANANTHAPURAM, IN   NaN    81  92.0  75.0\n",
       "2022-12-08  IN010100400  THIRUVANANTHAPURAM, IN   NaN    79  88.0  76.0\n",
       "2022-12-09  IN010100400  THIRUVANANTHAPURAM, IN  0.01    80  85.0  76.0\n",
       "2022-12-10  IN010100400  THIRUVANANTHAPURAM, IN  0.00    79   NaN  74.0\n",
       "\n",
       "[9494 rows x 6 columns]"
      ]
     },
     "execution_count": 3,
     "metadata": {},
     "output_type": "execute_result"
    }
   ],
   "source": [
    "weather"
   ]
  },
  {
   "cell_type": "code",
   "execution_count": 4,
   "id": "cf197843",
   "metadata": {},
   "outputs": [
    {
     "data": {
      "text/html": [
       "<div>\n",
       "<style scoped>\n",
       "    .dataframe tbody tr th:only-of-type {\n",
       "        vertical-align: middle;\n",
       "    }\n",
       "\n",
       "    .dataframe tbody tr th {\n",
       "        vertical-align: top;\n",
       "    }\n",
       "\n",
       "    .dataframe thead th {\n",
       "        text-align: right;\n",
       "    }\n",
       "</style>\n",
       "<table border=\"1\" class=\"dataframe\">\n",
       "  <thead>\n",
       "    <tr style=\"text-align: right;\">\n",
       "      <th></th>\n",
       "      <th>STATION</th>\n",
       "      <th>NAME</th>\n",
       "      <th>PRCP</th>\n",
       "      <th>TAVG</th>\n",
       "      <th>TMAX</th>\n",
       "      <th>TMIN</th>\n",
       "    </tr>\n",
       "    <tr>\n",
       "      <th>DATE</th>\n",
       "      <th></th>\n",
       "      <th></th>\n",
       "      <th></th>\n",
       "      <th></th>\n",
       "      <th></th>\n",
       "      <th></th>\n",
       "    </tr>\n",
       "  </thead>\n",
       "  <tbody>\n",
       "    <tr>\n",
       "      <th>1996-11-17</th>\n",
       "      <td>IN010100400</td>\n",
       "      <td>THIRUVANANTHAPURAM, IN</td>\n",
       "      <td>0.00</td>\n",
       "      <td>79</td>\n",
       "      <td>NaN</td>\n",
       "      <td>73.0</td>\n",
       "    </tr>\n",
       "    <tr>\n",
       "      <th>1996-11-18</th>\n",
       "      <td>IN010100400</td>\n",
       "      <td>THIRUVANANTHAPURAM, IN</td>\n",
       "      <td>0.09</td>\n",
       "      <td>79</td>\n",
       "      <td>88.0</td>\n",
       "      <td>74.0</td>\n",
       "    </tr>\n",
       "    <tr>\n",
       "      <th>1996-11-19</th>\n",
       "      <td>IN010100400</td>\n",
       "      <td>THIRUVANANTHAPURAM, IN</td>\n",
       "      <td>0.03</td>\n",
       "      <td>80</td>\n",
       "      <td>90.0</td>\n",
       "      <td>75.0</td>\n",
       "    </tr>\n",
       "    <tr>\n",
       "      <th>1996-11-20</th>\n",
       "      <td>IN010100400</td>\n",
       "      <td>THIRUVANANTHAPURAM, IN</td>\n",
       "      <td>0.15</td>\n",
       "      <td>81</td>\n",
       "      <td>NaN</td>\n",
       "      <td>72.0</td>\n",
       "    </tr>\n",
       "    <tr>\n",
       "      <th>1996-11-21</th>\n",
       "      <td>IN010100400</td>\n",
       "      <td>THIRUVANANTHAPURAM, IN</td>\n",
       "      <td>0.17</td>\n",
       "      <td>79</td>\n",
       "      <td>86.0</td>\n",
       "      <td>73.0</td>\n",
       "    </tr>\n",
       "    <tr>\n",
       "      <th>1996-11-22</th>\n",
       "      <td>IN010100400</td>\n",
       "      <td>THIRUVANANTHAPURAM, IN</td>\n",
       "      <td>0.12</td>\n",
       "      <td>79</td>\n",
       "      <td>87.0</td>\n",
       "      <td>75.0</td>\n",
       "    </tr>\n",
       "    <tr>\n",
       "      <th>1996-11-23</th>\n",
       "      <td>IN010100400</td>\n",
       "      <td>THIRUVANANTHAPURAM, IN</td>\n",
       "      <td>0.09</td>\n",
       "      <td>79</td>\n",
       "      <td>86.0</td>\n",
       "      <td>75.0</td>\n",
       "    </tr>\n",
       "    <tr>\n",
       "      <th>1996-11-24</th>\n",
       "      <td>IN010100400</td>\n",
       "      <td>THIRUVANANTHAPURAM, IN</td>\n",
       "      <td>0.00</td>\n",
       "      <td>78</td>\n",
       "      <td>83.0</td>\n",
       "      <td>76.0</td>\n",
       "    </tr>\n",
       "    <tr>\n",
       "      <th>1996-11-25</th>\n",
       "      <td>IN010100400</td>\n",
       "      <td>THIRUVANANTHAPURAM, IN</td>\n",
       "      <td>0.00</td>\n",
       "      <td>80</td>\n",
       "      <td>84.0</td>\n",
       "      <td>74.0</td>\n",
       "    </tr>\n",
       "    <tr>\n",
       "      <th>1996-11-26</th>\n",
       "      <td>IN010100400</td>\n",
       "      <td>THIRUVANANTHAPURAM, IN</td>\n",
       "      <td>0.04</td>\n",
       "      <td>78</td>\n",
       "      <td>NaN</td>\n",
       "      <td>74.0</td>\n",
       "    </tr>\n",
       "    <tr>\n",
       "      <th>1996-11-27</th>\n",
       "      <td>IN010100400</td>\n",
       "      <td>THIRUVANANTHAPURAM, IN</td>\n",
       "      <td>0.67</td>\n",
       "      <td>77</td>\n",
       "      <td>84.0</td>\n",
       "      <td>73.0</td>\n",
       "    </tr>\n",
       "    <tr>\n",
       "      <th>1996-11-28</th>\n",
       "      <td>IN010100400</td>\n",
       "      <td>THIRUVANANTHAPURAM, IN</td>\n",
       "      <td>0.28</td>\n",
       "      <td>77</td>\n",
       "      <td>82.0</td>\n",
       "      <td>74.0</td>\n",
       "    </tr>\n",
       "    <tr>\n",
       "      <th>1996-11-29</th>\n",
       "      <td>IN010100400</td>\n",
       "      <td>THIRUVANANTHAPURAM, IN</td>\n",
       "      <td>0.00</td>\n",
       "      <td>82</td>\n",
       "      <td>89.0</td>\n",
       "      <td>NaN</td>\n",
       "    </tr>\n",
       "    <tr>\n",
       "      <th>1996-11-30</th>\n",
       "      <td>IN010100400</td>\n",
       "      <td>THIRUVANANTHAPURAM, IN</td>\n",
       "      <td>0.00</td>\n",
       "      <td>81</td>\n",
       "      <td>89.0</td>\n",
       "      <td>NaN</td>\n",
       "    </tr>\n",
       "    <tr>\n",
       "      <th>1996-12-01</th>\n",
       "      <td>IN010100400</td>\n",
       "      <td>THIRUVANANTHAPURAM, IN</td>\n",
       "      <td>0.00</td>\n",
       "      <td>80</td>\n",
       "      <td>88.0</td>\n",
       "      <td>75.0</td>\n",
       "    </tr>\n",
       "    <tr>\n",
       "      <th>1996-12-02</th>\n",
       "      <td>IN010100400</td>\n",
       "      <td>THIRUVANANTHAPURAM, IN</td>\n",
       "      <td>0.00</td>\n",
       "      <td>80</td>\n",
       "      <td>87.0</td>\n",
       "      <td>73.0</td>\n",
       "    </tr>\n",
       "    <tr>\n",
       "      <th>1996-12-03</th>\n",
       "      <td>IN010100400</td>\n",
       "      <td>THIRUVANANTHAPURAM, IN</td>\n",
       "      <td>0.00</td>\n",
       "      <td>80</td>\n",
       "      <td>88.0</td>\n",
       "      <td>72.0</td>\n",
       "    </tr>\n",
       "    <tr>\n",
       "      <th>1996-12-04</th>\n",
       "      <td>IN010100400</td>\n",
       "      <td>THIRUVANANTHAPURAM, IN</td>\n",
       "      <td>0.00</td>\n",
       "      <td>79</td>\n",
       "      <td>89.0</td>\n",
       "      <td>72.0</td>\n",
       "    </tr>\n",
       "    <tr>\n",
       "      <th>1996-12-05</th>\n",
       "      <td>IN010100400</td>\n",
       "      <td>THIRUVANANTHAPURAM, IN</td>\n",
       "      <td>0.00</td>\n",
       "      <td>78</td>\n",
       "      <td>88.0</td>\n",
       "      <td>69.0</td>\n",
       "    </tr>\n",
       "    <tr>\n",
       "      <th>1996-12-06</th>\n",
       "      <td>IN010100400</td>\n",
       "      <td>THIRUVANANTHAPURAM, IN</td>\n",
       "      <td>0.00</td>\n",
       "      <td>79</td>\n",
       "      <td>90.0</td>\n",
       "      <td>71.0</td>\n",
       "    </tr>\n",
       "    <tr>\n",
       "      <th>1996-12-07</th>\n",
       "      <td>IN010100400</td>\n",
       "      <td>THIRUVANANTHAPURAM, IN</td>\n",
       "      <td>NaN</td>\n",
       "      <td>79</td>\n",
       "      <td>90.0</td>\n",
       "      <td>73.0</td>\n",
       "    </tr>\n",
       "    <tr>\n",
       "      <th>1996-12-08</th>\n",
       "      <td>IN010100400</td>\n",
       "      <td>THIRUVANANTHAPURAM, IN</td>\n",
       "      <td>NaN</td>\n",
       "      <td>75</td>\n",
       "      <td>89.0</td>\n",
       "      <td>74.0</td>\n",
       "    </tr>\n",
       "    <tr>\n",
       "      <th>1996-12-09</th>\n",
       "      <td>IN010100400</td>\n",
       "      <td>THIRUVANANTHAPURAM, IN</td>\n",
       "      <td>NaN</td>\n",
       "      <td>77</td>\n",
       "      <td>81.0</td>\n",
       "      <td>72.0</td>\n",
       "    </tr>\n",
       "    <tr>\n",
       "      <th>1996-12-10</th>\n",
       "      <td>IN010100400</td>\n",
       "      <td>THIRUVANANTHAPURAM, IN</td>\n",
       "      <td>0.00</td>\n",
       "      <td>78</td>\n",
       "      <td>85.0</td>\n",
       "      <td>74.0</td>\n",
       "    </tr>\n",
       "    <tr>\n",
       "      <th>1996-12-11</th>\n",
       "      <td>IN010100400</td>\n",
       "      <td>THIRUVANANTHAPURAM, IN</td>\n",
       "      <td>0.10</td>\n",
       "      <td>76</td>\n",
       "      <td>80.0</td>\n",
       "      <td>74.0</td>\n",
       "    </tr>\n",
       "    <tr>\n",
       "      <th>1996-12-12</th>\n",
       "      <td>IN010100400</td>\n",
       "      <td>THIRUVANANTHAPURAM, IN</td>\n",
       "      <td>0.08</td>\n",
       "      <td>79</td>\n",
       "      <td>89.0</td>\n",
       "      <td>73.0</td>\n",
       "    </tr>\n",
       "    <tr>\n",
       "      <th>1996-12-13</th>\n",
       "      <td>IN010100400</td>\n",
       "      <td>THIRUVANANTHAPURAM, IN</td>\n",
       "      <td>0.00</td>\n",
       "      <td>82</td>\n",
       "      <td>90.0</td>\n",
       "      <td>NaN</td>\n",
       "    </tr>\n",
       "    <tr>\n",
       "      <th>1996-12-14</th>\n",
       "      <td>IN010100400</td>\n",
       "      <td>THIRUVANANTHAPURAM, IN</td>\n",
       "      <td>NaN</td>\n",
       "      <td>77</td>\n",
       "      <td>81.0</td>\n",
       "      <td>NaN</td>\n",
       "    </tr>\n",
       "    <tr>\n",
       "      <th>1996-12-15</th>\n",
       "      <td>IN010100400</td>\n",
       "      <td>THIRUVANANTHAPURAM, IN</td>\n",
       "      <td>0.37</td>\n",
       "      <td>78</td>\n",
       "      <td>85.0</td>\n",
       "      <td>NaN</td>\n",
       "    </tr>\n",
       "    <tr>\n",
       "      <th>1996-12-16</th>\n",
       "      <td>IN010100400</td>\n",
       "      <td>THIRUVANANTHAPURAM, IN</td>\n",
       "      <td>1.15</td>\n",
       "      <td>77</td>\n",
       "      <td>84.0</td>\n",
       "      <td>71.0</td>\n",
       "    </tr>\n",
       "    <tr>\n",
       "      <th>1996-12-17</th>\n",
       "      <td>IN010100400</td>\n",
       "      <td>THIRUVANANTHAPURAM, IN</td>\n",
       "      <td>0.00</td>\n",
       "      <td>80</td>\n",
       "      <td>88.0</td>\n",
       "      <td>73.0</td>\n",
       "    </tr>\n",
       "  </tbody>\n",
       "</table>\n",
       "</div>"
      ],
      "text/plain": [
       "                STATION                    NAME  PRCP  TAVG  TMAX  TMIN\n",
       "DATE                                                                   \n",
       "1996-11-17  IN010100400  THIRUVANANTHAPURAM, IN  0.00    79   NaN  73.0\n",
       "1996-11-18  IN010100400  THIRUVANANTHAPURAM, IN  0.09    79  88.0  74.0\n",
       "1996-11-19  IN010100400  THIRUVANANTHAPURAM, IN  0.03    80  90.0  75.0\n",
       "1996-11-20  IN010100400  THIRUVANANTHAPURAM, IN  0.15    81   NaN  72.0\n",
       "1996-11-21  IN010100400  THIRUVANANTHAPURAM, IN  0.17    79  86.0  73.0\n",
       "1996-11-22  IN010100400  THIRUVANANTHAPURAM, IN  0.12    79  87.0  75.0\n",
       "1996-11-23  IN010100400  THIRUVANANTHAPURAM, IN  0.09    79  86.0  75.0\n",
       "1996-11-24  IN010100400  THIRUVANANTHAPURAM, IN  0.00    78  83.0  76.0\n",
       "1996-11-25  IN010100400  THIRUVANANTHAPURAM, IN  0.00    80  84.0  74.0\n",
       "1996-11-26  IN010100400  THIRUVANANTHAPURAM, IN  0.04    78   NaN  74.0\n",
       "1996-11-27  IN010100400  THIRUVANANTHAPURAM, IN  0.67    77  84.0  73.0\n",
       "1996-11-28  IN010100400  THIRUVANANTHAPURAM, IN  0.28    77  82.0  74.0\n",
       "1996-11-29  IN010100400  THIRUVANANTHAPURAM, IN  0.00    82  89.0   NaN\n",
       "1996-11-30  IN010100400  THIRUVANANTHAPURAM, IN  0.00    81  89.0   NaN\n",
       "1996-12-01  IN010100400  THIRUVANANTHAPURAM, IN  0.00    80  88.0  75.0\n",
       "1996-12-02  IN010100400  THIRUVANANTHAPURAM, IN  0.00    80  87.0  73.0\n",
       "1996-12-03  IN010100400  THIRUVANANTHAPURAM, IN  0.00    80  88.0  72.0\n",
       "1996-12-04  IN010100400  THIRUVANANTHAPURAM, IN  0.00    79  89.0  72.0\n",
       "1996-12-05  IN010100400  THIRUVANANTHAPURAM, IN  0.00    78  88.0  69.0\n",
       "1996-12-06  IN010100400  THIRUVANANTHAPURAM, IN  0.00    79  90.0  71.0\n",
       "1996-12-07  IN010100400  THIRUVANANTHAPURAM, IN   NaN    79  90.0  73.0\n",
       "1996-12-08  IN010100400  THIRUVANANTHAPURAM, IN   NaN    75  89.0  74.0\n",
       "1996-12-09  IN010100400  THIRUVANANTHAPURAM, IN   NaN    77  81.0  72.0\n",
       "1996-12-10  IN010100400  THIRUVANANTHAPURAM, IN  0.00    78  85.0  74.0\n",
       "1996-12-11  IN010100400  THIRUVANANTHAPURAM, IN  0.10    76  80.0  74.0\n",
       "1996-12-12  IN010100400  THIRUVANANTHAPURAM, IN  0.08    79  89.0  73.0\n",
       "1996-12-13  IN010100400  THIRUVANANTHAPURAM, IN  0.00    82  90.0   NaN\n",
       "1996-12-14  IN010100400  THIRUVANANTHAPURAM, IN   NaN    77  81.0   NaN\n",
       "1996-12-15  IN010100400  THIRUVANANTHAPURAM, IN  0.37    78  85.0   NaN\n",
       "1996-12-16  IN010100400  THIRUVANANTHAPURAM, IN  1.15    77  84.0  71.0\n",
       "1996-12-17  IN010100400  THIRUVANANTHAPURAM, IN  0.00    80  88.0  73.0"
      ]
     },
     "execution_count": 4,
     "metadata": {},
     "output_type": "execute_result"
    }
   ],
   "source": [
    "weather.loc['1996-11-17':\"1996-12-17\",:]"
   ]
  },
  {
   "cell_type": "code",
   "execution_count": 5,
   "id": "b840efba",
   "metadata": {},
   "outputs": [
    {
     "data": {
      "text/plain": [
       "STATION    0.000000\n",
       "NAME       0.000000\n",
       "PRCP       0.402675\n",
       "TAVG       0.000000\n",
       "TMAX       0.074573\n",
       "TMIN       0.125764\n",
       "dtype: float64"
      ]
     },
     "execution_count": 5,
     "metadata": {},
     "output_type": "execute_result"
    }
   ],
   "source": [
    "# check for missing values\n",
    "weather.isna().sum()/weather.shape[0]"
   ]
  },
  {
   "cell_type": "code",
   "execution_count": 6,
   "id": "2648e1a6",
   "metadata": {},
   "outputs": [],
   "source": [
    "# create a copy and rename columns\n",
    "weather_df = weather.copy()"
   ]
  },
  {
   "cell_type": "code",
   "execution_count": 7,
   "id": "49ab7681",
   "metadata": {},
   "outputs": [],
   "source": [
    "weather_df.columns = ['Station','name','precip','temp_avg','temp_max','temp_min']"
   ]
  },
  {
   "cell_type": "code",
   "execution_count": 8,
   "id": "e270eef4",
   "metadata": {},
   "outputs": [
    {
     "data": {
      "text/html": [
       "<div>\n",
       "<style scoped>\n",
       "    .dataframe tbody tr th:only-of-type {\n",
       "        vertical-align: middle;\n",
       "    }\n",
       "\n",
       "    .dataframe tbody tr th {\n",
       "        vertical-align: top;\n",
       "    }\n",
       "\n",
       "    .dataframe thead th {\n",
       "        text-align: right;\n",
       "    }\n",
       "</style>\n",
       "<table border=\"1\" class=\"dataframe\">\n",
       "  <thead>\n",
       "    <tr style=\"text-align: right;\">\n",
       "      <th></th>\n",
       "      <th>Station</th>\n",
       "      <th>name</th>\n",
       "      <th>precip</th>\n",
       "      <th>temp_avg</th>\n",
       "      <th>temp_max</th>\n",
       "      <th>temp_min</th>\n",
       "    </tr>\n",
       "    <tr>\n",
       "      <th>DATE</th>\n",
       "      <th></th>\n",
       "      <th></th>\n",
       "      <th></th>\n",
       "      <th></th>\n",
       "      <th></th>\n",
       "      <th></th>\n",
       "    </tr>\n",
       "  </thead>\n",
       "  <tbody>\n",
       "    <tr>\n",
       "      <th>1996-11-17</th>\n",
       "      <td>IN010100400</td>\n",
       "      <td>THIRUVANANTHAPURAM, IN</td>\n",
       "      <td>0.00</td>\n",
       "      <td>79</td>\n",
       "      <td>NaN</td>\n",
       "      <td>73.0</td>\n",
       "    </tr>\n",
       "    <tr>\n",
       "      <th>1996-11-18</th>\n",
       "      <td>IN010100400</td>\n",
       "      <td>THIRUVANANTHAPURAM, IN</td>\n",
       "      <td>0.09</td>\n",
       "      <td>79</td>\n",
       "      <td>88.0</td>\n",
       "      <td>74.0</td>\n",
       "    </tr>\n",
       "    <tr>\n",
       "      <th>1996-11-19</th>\n",
       "      <td>IN010100400</td>\n",
       "      <td>THIRUVANANTHAPURAM, IN</td>\n",
       "      <td>0.03</td>\n",
       "      <td>80</td>\n",
       "      <td>90.0</td>\n",
       "      <td>75.0</td>\n",
       "    </tr>\n",
       "    <tr>\n",
       "      <th>1996-11-20</th>\n",
       "      <td>IN010100400</td>\n",
       "      <td>THIRUVANANTHAPURAM, IN</td>\n",
       "      <td>0.15</td>\n",
       "      <td>81</td>\n",
       "      <td>NaN</td>\n",
       "      <td>72.0</td>\n",
       "    </tr>\n",
       "    <tr>\n",
       "      <th>1996-11-21</th>\n",
       "      <td>IN010100400</td>\n",
       "      <td>THIRUVANANTHAPURAM, IN</td>\n",
       "      <td>0.17</td>\n",
       "      <td>79</td>\n",
       "      <td>86.0</td>\n",
       "      <td>73.0</td>\n",
       "    </tr>\n",
       "    <tr>\n",
       "      <th>...</th>\n",
       "      <td>...</td>\n",
       "      <td>...</td>\n",
       "      <td>...</td>\n",
       "      <td>...</td>\n",
       "      <td>...</td>\n",
       "      <td>...</td>\n",
       "    </tr>\n",
       "    <tr>\n",
       "      <th>2022-12-06</th>\n",
       "      <td>IN010100400</td>\n",
       "      <td>THIRUVANANTHAPURAM, IN</td>\n",
       "      <td>0.00</td>\n",
       "      <td>81</td>\n",
       "      <td>NaN</td>\n",
       "      <td>76.0</td>\n",
       "    </tr>\n",
       "    <tr>\n",
       "      <th>2022-12-07</th>\n",
       "      <td>IN010100400</td>\n",
       "      <td>THIRUVANANTHAPURAM, IN</td>\n",
       "      <td>NaN</td>\n",
       "      <td>81</td>\n",
       "      <td>92.0</td>\n",
       "      <td>75.0</td>\n",
       "    </tr>\n",
       "    <tr>\n",
       "      <th>2022-12-08</th>\n",
       "      <td>IN010100400</td>\n",
       "      <td>THIRUVANANTHAPURAM, IN</td>\n",
       "      <td>NaN</td>\n",
       "      <td>79</td>\n",
       "      <td>88.0</td>\n",
       "      <td>76.0</td>\n",
       "    </tr>\n",
       "    <tr>\n",
       "      <th>2022-12-09</th>\n",
       "      <td>IN010100400</td>\n",
       "      <td>THIRUVANANTHAPURAM, IN</td>\n",
       "      <td>0.01</td>\n",
       "      <td>80</td>\n",
       "      <td>85.0</td>\n",
       "      <td>76.0</td>\n",
       "    </tr>\n",
       "    <tr>\n",
       "      <th>2022-12-10</th>\n",
       "      <td>IN010100400</td>\n",
       "      <td>THIRUVANANTHAPURAM, IN</td>\n",
       "      <td>0.00</td>\n",
       "      <td>79</td>\n",
       "      <td>NaN</td>\n",
       "      <td>74.0</td>\n",
       "    </tr>\n",
       "  </tbody>\n",
       "</table>\n",
       "<p>9494 rows × 6 columns</p>\n",
       "</div>"
      ],
      "text/plain": [
       "                Station                    name  precip  temp_avg  temp_max  \\\n",
       "DATE                                                                          \n",
       "1996-11-17  IN010100400  THIRUVANANTHAPURAM, IN    0.00        79       NaN   \n",
       "1996-11-18  IN010100400  THIRUVANANTHAPURAM, IN    0.09        79      88.0   \n",
       "1996-11-19  IN010100400  THIRUVANANTHAPURAM, IN    0.03        80      90.0   \n",
       "1996-11-20  IN010100400  THIRUVANANTHAPURAM, IN    0.15        81       NaN   \n",
       "1996-11-21  IN010100400  THIRUVANANTHAPURAM, IN    0.17        79      86.0   \n",
       "...                 ...                     ...     ...       ...       ...   \n",
       "2022-12-06  IN010100400  THIRUVANANTHAPURAM, IN    0.00        81       NaN   \n",
       "2022-12-07  IN010100400  THIRUVANANTHAPURAM, IN     NaN        81      92.0   \n",
       "2022-12-08  IN010100400  THIRUVANANTHAPURAM, IN     NaN        79      88.0   \n",
       "2022-12-09  IN010100400  THIRUVANANTHAPURAM, IN    0.01        80      85.0   \n",
       "2022-12-10  IN010100400  THIRUVANANTHAPURAM, IN    0.00        79       NaN   \n",
       "\n",
       "            temp_min  \n",
       "DATE                  \n",
       "1996-11-17      73.0  \n",
       "1996-11-18      74.0  \n",
       "1996-11-19      75.0  \n",
       "1996-11-20      72.0  \n",
       "1996-11-21      73.0  \n",
       "...              ...  \n",
       "2022-12-06      76.0  \n",
       "2022-12-07      75.0  \n",
       "2022-12-08      76.0  \n",
       "2022-12-09      76.0  \n",
       "2022-12-10      74.0  \n",
       "\n",
       "[9494 rows x 6 columns]"
      ]
     },
     "execution_count": 8,
     "metadata": {},
     "output_type": "execute_result"
    }
   ],
   "source": [
    "weather_df"
   ]
  },
  {
   "cell_type": "markdown",
   "id": "a4863fce",
   "metadata": {},
   "source": [
    "### Fill in missing values"
   ]
  },
  {
   "cell_type": "code",
   "execution_count": 9,
   "id": "04c0001f",
   "metadata": {},
   "outputs": [
    {
     "data": {
      "text/plain": [
       "Station     0.000000\n",
       "name        0.000000\n",
       "precip      0.402675\n",
       "temp_avg    0.000000\n",
       "temp_max    0.074573\n",
       "temp_min    0.125764\n",
       "dtype: float64"
      ]
     },
     "execution_count": 9,
     "metadata": {},
     "output_type": "execute_result"
    }
   ],
   "source": [
    "weather_df.isna().sum()/weather_df.shape[0]"
   ]
  },
  {
   "cell_type": "code",
   "execution_count": 10,
   "id": "73904a46",
   "metadata": {},
   "outputs": [
    {
     "data": {
      "text/plain": [
       "0.00    2261\n",
       "0.08     288\n",
       "0.02     272\n",
       "0.04     258\n",
       "0.12     252\n",
       "        ... \n",
       "3.46       1\n",
       "3.39       1\n",
       "5.35       1\n",
       "3.90       1\n",
       "6.14       1\n",
       "Name: precip, Length: 126, dtype: int64"
      ]
     },
     "execution_count": 10,
     "metadata": {},
     "output_type": "execute_result"
    }
   ],
   "source": [
    "weather_df.precip.value_counts()"
   ]
  },
  {
   "cell_type": "code",
   "execution_count": 11,
   "id": "50dd9a25",
   "metadata": {},
   "outputs": [
    {
     "data": {
      "text/plain": [
       "IN010100400    9494\n",
       "Name: Station, dtype: int64"
      ]
     },
     "execution_count": 11,
     "metadata": {},
     "output_type": "execute_result"
    }
   ],
   "source": [
    "weather_df['Station'].value_counts() "
   ]
  },
  {
   "cell_type": "markdown",
   "id": "914ef4b9",
   "metadata": {},
   "source": [
    "Delete this column as all values are same."
   ]
  },
  {
   "cell_type": "code",
   "execution_count": 12,
   "id": "063e9c6a",
   "metadata": {},
   "outputs": [
    {
     "data": {
      "text/plain": [
       "THIRUVANANTHAPURAM, IN    9494\n",
       "Name: name, dtype: int64"
      ]
     },
     "execution_count": 12,
     "metadata": {},
     "output_type": "execute_result"
    }
   ],
   "source": [
    "weather_df['name'].value_counts()"
   ]
  },
  {
   "cell_type": "markdown",
   "id": "87ed3ffe",
   "metadata": {},
   "source": [
    "Delete name column as all values are same."
   ]
  },
  {
   "cell_type": "code",
   "execution_count": 13,
   "id": "03fd181d",
   "metadata": {},
   "outputs": [
    {
     "data": {
      "text/plain": [
       "81    1978\n",
       "80    1524\n",
       "82    1477\n",
       "83    1109\n",
       "79     728\n",
       "85     658\n",
       "84     599\n",
       "78     513\n",
       "86     275\n",
       "77     236\n",
       "87     148\n",
       "76     144\n",
       "75      49\n",
       "88      37\n",
       "74      15\n",
       "89       2\n",
       "72       1\n",
       "73       1\n",
       "Name: temp_avg, dtype: int64"
      ]
     },
     "execution_count": 13,
     "metadata": {},
     "output_type": "execute_result"
    }
   ],
   "source": [
    "weather_df['temp_avg'].value_counts()"
   ]
  },
  {
   "cell_type": "code",
   "execution_count": 14,
   "id": "6f58c765",
   "metadata": {},
   "outputs": [
    {
     "data": {
      "text/plain": [
       "90.0     1435\n",
       "92.0     1069\n",
       "91.0     1056\n",
       "89.0     1054\n",
       "93.0      766\n",
       "88.0      731\n",
       "94.0      593\n",
       "87.0      571\n",
       "86.0      342\n",
       "95.0      327\n",
       "85.0      216\n",
       "96.0      166\n",
       "84.0      104\n",
       "83.0       82\n",
       "82.0       61\n",
       "97.0       49\n",
       "81.0       44\n",
       "80.0       40\n",
       "98.0       29\n",
       "79.0       18\n",
       "78.0       16\n",
       "99.0        7\n",
       "100.0       3\n",
       "77.0        2\n",
       "101.0       2\n",
       "76.0        1\n",
       "102.0       1\n",
       "103.0       1\n",
       "Name: temp_max, dtype: int64"
      ]
     },
     "execution_count": 14,
     "metadata": {},
     "output_type": "execute_result"
    }
   ],
   "source": [
    "weather_df['temp_max'].value_counts()"
   ]
  },
  {
   "cell_type": "code",
   "execution_count": 15,
   "id": "a11d5204",
   "metadata": {},
   "outputs": [
    {
     "data": {
      "text/plain": [
       "74.0    1581\n",
       "75.0    1408\n",
       "76.0    1333\n",
       "73.0     974\n",
       "77.0     767\n",
       "72.0     653\n",
       "78.0     492\n",
       "71.0     289\n",
       "79.0     259\n",
       "80.0     155\n",
       "70.0     135\n",
       "69.0     103\n",
       "81.0      70\n",
       "68.0      35\n",
       "67.0      22\n",
       "82.0      13\n",
       "66.0       5\n",
       "65.0       3\n",
       "83.0       2\n",
       "84.0       1\n",
       "Name: temp_min, dtype: int64"
      ]
     },
     "execution_count": 15,
     "metadata": {},
     "output_type": "execute_result"
    }
   ],
   "source": [
    "weather_df['temp_min'].value_counts()"
   ]
  },
  {
   "cell_type": "code",
   "execution_count": 16,
   "id": "9f4d7c98",
   "metadata": {},
   "outputs": [],
   "source": [
    "# drop station and name\n",
    "weather_df= weather_df.drop(['Station','name'], axis=1)"
   ]
  },
  {
   "cell_type": "code",
   "execution_count": 17,
   "id": "2e16c7e8",
   "metadata": {},
   "outputs": [
    {
     "data": {
      "text/html": [
       "<div>\n",
       "<style scoped>\n",
       "    .dataframe tbody tr th:only-of-type {\n",
       "        vertical-align: middle;\n",
       "    }\n",
       "\n",
       "    .dataframe tbody tr th {\n",
       "        vertical-align: top;\n",
       "    }\n",
       "\n",
       "    .dataframe thead th {\n",
       "        text-align: right;\n",
       "    }\n",
       "</style>\n",
       "<table border=\"1\" class=\"dataframe\">\n",
       "  <thead>\n",
       "    <tr style=\"text-align: right;\">\n",
       "      <th></th>\n",
       "      <th>precip</th>\n",
       "      <th>temp_avg</th>\n",
       "      <th>temp_max</th>\n",
       "      <th>temp_min</th>\n",
       "    </tr>\n",
       "    <tr>\n",
       "      <th>DATE</th>\n",
       "      <th></th>\n",
       "      <th></th>\n",
       "      <th></th>\n",
       "      <th></th>\n",
       "    </tr>\n",
       "  </thead>\n",
       "  <tbody>\n",
       "    <tr>\n",
       "      <th>1996-11-17</th>\n",
       "      <td>0.00</td>\n",
       "      <td>79</td>\n",
       "      <td>NaN</td>\n",
       "      <td>73.0</td>\n",
       "    </tr>\n",
       "    <tr>\n",
       "      <th>1996-11-18</th>\n",
       "      <td>0.09</td>\n",
       "      <td>79</td>\n",
       "      <td>88.0</td>\n",
       "      <td>74.0</td>\n",
       "    </tr>\n",
       "    <tr>\n",
       "      <th>1996-11-19</th>\n",
       "      <td>0.03</td>\n",
       "      <td>80</td>\n",
       "      <td>90.0</td>\n",
       "      <td>75.0</td>\n",
       "    </tr>\n",
       "    <tr>\n",
       "      <th>1996-11-20</th>\n",
       "      <td>0.15</td>\n",
       "      <td>81</td>\n",
       "      <td>NaN</td>\n",
       "      <td>72.0</td>\n",
       "    </tr>\n",
       "    <tr>\n",
       "      <th>1996-11-21</th>\n",
       "      <td>0.17</td>\n",
       "      <td>79</td>\n",
       "      <td>86.0</td>\n",
       "      <td>73.0</td>\n",
       "    </tr>\n",
       "  </tbody>\n",
       "</table>\n",
       "</div>"
      ],
      "text/plain": [
       "            precip  temp_avg  temp_max  temp_min\n",
       "DATE                                            \n",
       "1996-11-17    0.00        79       NaN      73.0\n",
       "1996-11-18    0.09        79      88.0      74.0\n",
       "1996-11-19    0.03        80      90.0      75.0\n",
       "1996-11-20    0.15        81       NaN      72.0\n",
       "1996-11-21    0.17        79      86.0      73.0"
      ]
     },
     "execution_count": 17,
     "metadata": {},
     "output_type": "execute_result"
    }
   ],
   "source": [
    "weather_df.head()"
   ]
  },
  {
   "cell_type": "code",
   "execution_count": 18,
   "id": "35214e8e",
   "metadata": {},
   "outputs": [
    {
     "data": {
      "text/html": [
       "<div>\n",
       "<style scoped>\n",
       "    .dataframe tbody tr th:only-of-type {\n",
       "        vertical-align: middle;\n",
       "    }\n",
       "\n",
       "    .dataframe tbody tr th {\n",
       "        vertical-align: top;\n",
       "    }\n",
       "\n",
       "    .dataframe thead th {\n",
       "        text-align: right;\n",
       "    }\n",
       "</style>\n",
       "<table border=\"1\" class=\"dataframe\">\n",
       "  <thead>\n",
       "    <tr style=\"text-align: right;\">\n",
       "      <th></th>\n",
       "      <th>precip</th>\n",
       "      <th>temp_avg</th>\n",
       "      <th>temp_max</th>\n",
       "      <th>temp_min</th>\n",
       "    </tr>\n",
       "    <tr>\n",
       "      <th>DATE</th>\n",
       "      <th></th>\n",
       "      <th></th>\n",
       "      <th></th>\n",
       "      <th></th>\n",
       "    </tr>\n",
       "  </thead>\n",
       "  <tbody>\n",
       "    <tr>\n",
       "      <th>1996-12-07</th>\n",
       "      <td>NaN</td>\n",
       "      <td>79</td>\n",
       "      <td>90.0</td>\n",
       "      <td>73.0</td>\n",
       "    </tr>\n",
       "    <tr>\n",
       "      <th>1996-12-08</th>\n",
       "      <td>NaN</td>\n",
       "      <td>75</td>\n",
       "      <td>89.0</td>\n",
       "      <td>74.0</td>\n",
       "    </tr>\n",
       "    <tr>\n",
       "      <th>1996-12-09</th>\n",
       "      <td>NaN</td>\n",
       "      <td>77</td>\n",
       "      <td>81.0</td>\n",
       "      <td>72.0</td>\n",
       "    </tr>\n",
       "    <tr>\n",
       "      <th>1996-12-14</th>\n",
       "      <td>NaN</td>\n",
       "      <td>77</td>\n",
       "      <td>81.0</td>\n",
       "      <td>NaN</td>\n",
       "    </tr>\n",
       "    <tr>\n",
       "      <th>1996-12-29</th>\n",
       "      <td>NaN</td>\n",
       "      <td>82</td>\n",
       "      <td>90.0</td>\n",
       "      <td>71.0</td>\n",
       "    </tr>\n",
       "    <tr>\n",
       "      <th>...</th>\n",
       "      <td>...</td>\n",
       "      <td>...</td>\n",
       "      <td>...</td>\n",
       "      <td>...</td>\n",
       "    </tr>\n",
       "    <tr>\n",
       "      <th>2022-11-25</th>\n",
       "      <td>NaN</td>\n",
       "      <td>80</td>\n",
       "      <td>92.0</td>\n",
       "      <td>71.0</td>\n",
       "    </tr>\n",
       "    <tr>\n",
       "      <th>2022-11-26</th>\n",
       "      <td>NaN</td>\n",
       "      <td>81</td>\n",
       "      <td>90.0</td>\n",
       "      <td>73.0</td>\n",
       "    </tr>\n",
       "    <tr>\n",
       "      <th>2022-11-27</th>\n",
       "      <td>NaN</td>\n",
       "      <td>81</td>\n",
       "      <td>90.0</td>\n",
       "      <td>74.0</td>\n",
       "    </tr>\n",
       "    <tr>\n",
       "      <th>2022-12-07</th>\n",
       "      <td>NaN</td>\n",
       "      <td>81</td>\n",
       "      <td>92.0</td>\n",
       "      <td>75.0</td>\n",
       "    </tr>\n",
       "    <tr>\n",
       "      <th>2022-12-08</th>\n",
       "      <td>NaN</td>\n",
       "      <td>79</td>\n",
       "      <td>88.0</td>\n",
       "      <td>76.0</td>\n",
       "    </tr>\n",
       "  </tbody>\n",
       "</table>\n",
       "<p>3823 rows × 4 columns</p>\n",
       "</div>"
      ],
      "text/plain": [
       "            precip  temp_avg  temp_max  temp_min\n",
       "DATE                                            \n",
       "1996-12-07     NaN        79      90.0      73.0\n",
       "1996-12-08     NaN        75      89.0      74.0\n",
       "1996-12-09     NaN        77      81.0      72.0\n",
       "1996-12-14     NaN        77      81.0       NaN\n",
       "1996-12-29     NaN        82      90.0      71.0\n",
       "...            ...       ...       ...       ...\n",
       "2022-11-25     NaN        80      92.0      71.0\n",
       "2022-11-26     NaN        81      90.0      73.0\n",
       "2022-11-27     NaN        81      90.0      74.0\n",
       "2022-12-07     NaN        81      92.0      75.0\n",
       "2022-12-08     NaN        79      88.0      76.0\n",
       "\n",
       "[3823 rows x 4 columns]"
      ]
     },
     "execution_count": 18,
     "metadata": {},
     "output_type": "execute_result"
    }
   ],
   "source": [
    "# check the rows where precipitation is null\n",
    "weather_df[weather_df['precip'].isnull()]"
   ]
  },
  {
   "cell_type": "code",
   "execution_count": 19,
   "id": "f7ec6124",
   "metadata": {},
   "outputs": [
    {
     "data": {
      "text/html": [
       "<div>\n",
       "<style scoped>\n",
       "    .dataframe tbody tr th:only-of-type {\n",
       "        vertical-align: middle;\n",
       "    }\n",
       "\n",
       "    .dataframe tbody tr th {\n",
       "        vertical-align: top;\n",
       "    }\n",
       "\n",
       "    .dataframe thead th {\n",
       "        text-align: right;\n",
       "    }\n",
       "</style>\n",
       "<table border=\"1\" class=\"dataframe\">\n",
       "  <thead>\n",
       "    <tr style=\"text-align: right;\">\n",
       "      <th></th>\n",
       "      <th>precip</th>\n",
       "      <th>temp_avg</th>\n",
       "      <th>temp_max</th>\n",
       "      <th>temp_min</th>\n",
       "    </tr>\n",
       "    <tr>\n",
       "      <th>DATE</th>\n",
       "      <th></th>\n",
       "      <th></th>\n",
       "      <th></th>\n",
       "      <th></th>\n",
       "    </tr>\n",
       "  </thead>\n",
       "  <tbody>\n",
       "    <tr>\n",
       "      <th>1996-12-05</th>\n",
       "      <td>0.00</td>\n",
       "      <td>78</td>\n",
       "      <td>88.0</td>\n",
       "      <td>69.0</td>\n",
       "    </tr>\n",
       "    <tr>\n",
       "      <th>1996-12-06</th>\n",
       "      <td>0.00</td>\n",
       "      <td>79</td>\n",
       "      <td>90.0</td>\n",
       "      <td>71.0</td>\n",
       "    </tr>\n",
       "    <tr>\n",
       "      <th>1996-12-07</th>\n",
       "      <td>NaN</td>\n",
       "      <td>79</td>\n",
       "      <td>90.0</td>\n",
       "      <td>73.0</td>\n",
       "    </tr>\n",
       "    <tr>\n",
       "      <th>1996-12-08</th>\n",
       "      <td>NaN</td>\n",
       "      <td>75</td>\n",
       "      <td>89.0</td>\n",
       "      <td>74.0</td>\n",
       "    </tr>\n",
       "    <tr>\n",
       "      <th>1996-12-09</th>\n",
       "      <td>NaN</td>\n",
       "      <td>77</td>\n",
       "      <td>81.0</td>\n",
       "      <td>72.0</td>\n",
       "    </tr>\n",
       "    <tr>\n",
       "      <th>1996-12-10</th>\n",
       "      <td>0.00</td>\n",
       "      <td>78</td>\n",
       "      <td>85.0</td>\n",
       "      <td>74.0</td>\n",
       "    </tr>\n",
       "    <tr>\n",
       "      <th>1996-12-11</th>\n",
       "      <td>0.10</td>\n",
       "      <td>76</td>\n",
       "      <td>80.0</td>\n",
       "      <td>74.0</td>\n",
       "    </tr>\n",
       "    <tr>\n",
       "      <th>1996-12-12</th>\n",
       "      <td>0.08</td>\n",
       "      <td>79</td>\n",
       "      <td>89.0</td>\n",
       "      <td>73.0</td>\n",
       "    </tr>\n",
       "    <tr>\n",
       "      <th>1996-12-13</th>\n",
       "      <td>0.00</td>\n",
       "      <td>82</td>\n",
       "      <td>90.0</td>\n",
       "      <td>NaN</td>\n",
       "    </tr>\n",
       "    <tr>\n",
       "      <th>1996-12-14</th>\n",
       "      <td>NaN</td>\n",
       "      <td>77</td>\n",
       "      <td>81.0</td>\n",
       "      <td>NaN</td>\n",
       "    </tr>\n",
       "    <tr>\n",
       "      <th>1996-12-15</th>\n",
       "      <td>0.37</td>\n",
       "      <td>78</td>\n",
       "      <td>85.0</td>\n",
       "      <td>NaN</td>\n",
       "    </tr>\n",
       "    <tr>\n",
       "      <th>1996-12-16</th>\n",
       "      <td>1.15</td>\n",
       "      <td>77</td>\n",
       "      <td>84.0</td>\n",
       "      <td>71.0</td>\n",
       "    </tr>\n",
       "    <tr>\n",
       "      <th>1996-12-17</th>\n",
       "      <td>0.00</td>\n",
       "      <td>80</td>\n",
       "      <td>88.0</td>\n",
       "      <td>73.0</td>\n",
       "    </tr>\n",
       "    <tr>\n",
       "      <th>1996-12-18</th>\n",
       "      <td>0.00</td>\n",
       "      <td>80</td>\n",
       "      <td>87.0</td>\n",
       "      <td>74.0</td>\n",
       "    </tr>\n",
       "    <tr>\n",
       "      <th>1996-12-19</th>\n",
       "      <td>0.01</td>\n",
       "      <td>80</td>\n",
       "      <td>91.0</td>\n",
       "      <td>72.0</td>\n",
       "    </tr>\n",
       "  </tbody>\n",
       "</table>\n",
       "</div>"
      ],
      "text/plain": [
       "            precip  temp_avg  temp_max  temp_min\n",
       "DATE                                            \n",
       "1996-12-05    0.00        78      88.0      69.0\n",
       "1996-12-06    0.00        79      90.0      71.0\n",
       "1996-12-07     NaN        79      90.0      73.0\n",
       "1996-12-08     NaN        75      89.0      74.0\n",
       "1996-12-09     NaN        77      81.0      72.0\n",
       "1996-12-10    0.00        78      85.0      74.0\n",
       "1996-12-11    0.10        76      80.0      74.0\n",
       "1996-12-12    0.08        79      89.0      73.0\n",
       "1996-12-13    0.00        82      90.0       NaN\n",
       "1996-12-14     NaN        77      81.0       NaN\n",
       "1996-12-15    0.37        78      85.0       NaN\n",
       "1996-12-16    1.15        77      84.0      71.0\n",
       "1996-12-17    0.00        80      88.0      73.0\n",
       "1996-12-18    0.00        80      87.0      74.0\n",
       "1996-12-19    0.01        80      91.0      72.0"
      ]
     },
     "execution_count": 19,
     "metadata": {},
     "output_type": "execute_result"
    }
   ],
   "source": [
    "weather_df.loc['1996-12-05':'1996-12-19',:]"
   ]
  },
  {
   "cell_type": "code",
   "execution_count": 20,
   "id": "124fe314",
   "metadata": {},
   "outputs": [
    {
     "data": {
      "text/plain": [
       "0.00    2261\n",
       "0.08     288\n",
       "0.02     272\n",
       "0.04     258\n",
       "0.12     252\n",
       "        ... \n",
       "3.46       1\n",
       "3.39       1\n",
       "5.35       1\n",
       "3.90       1\n",
       "6.14       1\n",
       "Name: precip, Length: 126, dtype: int64"
      ]
     },
     "execution_count": 20,
     "metadata": {},
     "output_type": "execute_result"
    }
   ],
   "source": [
    "weather_df.precip.value_counts()"
   ]
  },
  {
   "cell_type": "markdown",
   "id": "fb297fa1",
   "metadata": {},
   "source": [
    "Most days the precipitation was 0."
   ]
  },
  {
   "cell_type": "code",
   "execution_count": 21,
   "id": "cc5e52f1",
   "metadata": {},
   "outputs": [],
   "source": [
    "# replace null values in precip with 0\n",
    "weather_df['precip'] = weather_df['precip'].fillna(0)"
   ]
  },
  {
   "cell_type": "code",
   "execution_count": 22,
   "id": "32cfe5de",
   "metadata": {},
   "outputs": [
    {
     "data": {
      "text/html": [
       "<div>\n",
       "<style scoped>\n",
       "    .dataframe tbody tr th:only-of-type {\n",
       "        vertical-align: middle;\n",
       "    }\n",
       "\n",
       "    .dataframe tbody tr th {\n",
       "        vertical-align: top;\n",
       "    }\n",
       "\n",
       "    .dataframe thead th {\n",
       "        text-align: right;\n",
       "    }\n",
       "</style>\n",
       "<table border=\"1\" class=\"dataframe\">\n",
       "  <thead>\n",
       "    <tr style=\"text-align: right;\">\n",
       "      <th></th>\n",
       "      <th>precip</th>\n",
       "      <th>temp_avg</th>\n",
       "      <th>temp_max</th>\n",
       "      <th>temp_min</th>\n",
       "    </tr>\n",
       "    <tr>\n",
       "      <th>DATE</th>\n",
       "      <th></th>\n",
       "      <th></th>\n",
       "      <th></th>\n",
       "      <th></th>\n",
       "    </tr>\n",
       "  </thead>\n",
       "  <tbody>\n",
       "    <tr>\n",
       "      <th>1996-11-17</th>\n",
       "      <td>0.00</td>\n",
       "      <td>79</td>\n",
       "      <td>NaN</td>\n",
       "      <td>73.0</td>\n",
       "    </tr>\n",
       "    <tr>\n",
       "      <th>1996-11-20</th>\n",
       "      <td>0.15</td>\n",
       "      <td>81</td>\n",
       "      <td>NaN</td>\n",
       "      <td>72.0</td>\n",
       "    </tr>\n",
       "    <tr>\n",
       "      <th>1996-11-26</th>\n",
       "      <td>0.04</td>\n",
       "      <td>78</td>\n",
       "      <td>NaN</td>\n",
       "      <td>74.0</td>\n",
       "    </tr>\n",
       "    <tr>\n",
       "      <th>1996-12-23</th>\n",
       "      <td>0.00</td>\n",
       "      <td>80</td>\n",
       "      <td>NaN</td>\n",
       "      <td>NaN</td>\n",
       "    </tr>\n",
       "    <tr>\n",
       "      <th>1997-01-02</th>\n",
       "      <td>0.00</td>\n",
       "      <td>80</td>\n",
       "      <td>NaN</td>\n",
       "      <td>73.0</td>\n",
       "    </tr>\n",
       "    <tr>\n",
       "      <th>...</th>\n",
       "      <td>...</td>\n",
       "      <td>...</td>\n",
       "      <td>...</td>\n",
       "      <td>...</td>\n",
       "    </tr>\n",
       "    <tr>\n",
       "      <th>2022-11-15</th>\n",
       "      <td>1.61</td>\n",
       "      <td>80</td>\n",
       "      <td>NaN</td>\n",
       "      <td>74.0</td>\n",
       "    </tr>\n",
       "    <tr>\n",
       "      <th>2022-12-01</th>\n",
       "      <td>0.00</td>\n",
       "      <td>82</td>\n",
       "      <td>NaN</td>\n",
       "      <td>74.0</td>\n",
       "    </tr>\n",
       "    <tr>\n",
       "      <th>2022-12-04</th>\n",
       "      <td>0.03</td>\n",
       "      <td>81</td>\n",
       "      <td>NaN</td>\n",
       "      <td>76.0</td>\n",
       "    </tr>\n",
       "    <tr>\n",
       "      <th>2022-12-06</th>\n",
       "      <td>0.00</td>\n",
       "      <td>81</td>\n",
       "      <td>NaN</td>\n",
       "      <td>76.0</td>\n",
       "    </tr>\n",
       "    <tr>\n",
       "      <th>2022-12-10</th>\n",
       "      <td>0.00</td>\n",
       "      <td>79</td>\n",
       "      <td>NaN</td>\n",
       "      <td>74.0</td>\n",
       "    </tr>\n",
       "  </tbody>\n",
       "</table>\n",
       "<p>708 rows × 4 columns</p>\n",
       "</div>"
      ],
      "text/plain": [
       "            precip  temp_avg  temp_max  temp_min\n",
       "DATE                                            \n",
       "1996-11-17    0.00        79       NaN      73.0\n",
       "1996-11-20    0.15        81       NaN      72.0\n",
       "1996-11-26    0.04        78       NaN      74.0\n",
       "1996-12-23    0.00        80       NaN       NaN\n",
       "1997-01-02    0.00        80       NaN      73.0\n",
       "...            ...       ...       ...       ...\n",
       "2022-11-15    1.61        80       NaN      74.0\n",
       "2022-12-01    0.00        82       NaN      74.0\n",
       "2022-12-04    0.03        81       NaN      76.0\n",
       "2022-12-06    0.00        81       NaN      76.0\n",
       "2022-12-10    0.00        79       NaN      74.0\n",
       "\n",
       "[708 rows x 4 columns]"
      ]
     },
     "execution_count": 22,
     "metadata": {},
     "output_type": "execute_result"
    }
   ],
   "source": [
    "# check the rows where temp_max is null\n",
    "weather_df[weather_df['temp_max'].isnull()]"
   ]
  },
  {
   "cell_type": "code",
   "execution_count": 23,
   "id": "b71ef505",
   "metadata": {},
   "outputs": [],
   "source": [
    "# fill missing values in temp max and temp min using ffill\n",
    "\n",
    "weather_df = weather_df.fillna(method='ffill')"
   ]
  },
  {
   "cell_type": "code",
   "execution_count": 24,
   "id": "ed35360f",
   "metadata": {},
   "outputs": [
    {
     "data": {
      "text/plain": [
       "precip      0\n",
       "temp_avg    0\n",
       "temp_max    1\n",
       "temp_min    0\n",
       "dtype: int64"
      ]
     },
     "execution_count": 24,
     "metadata": {},
     "output_type": "execute_result"
    }
   ],
   "source": [
    "weather_df.isna().sum()"
   ]
  },
  {
   "cell_type": "code",
   "execution_count": 25,
   "id": "06c70730",
   "metadata": {},
   "outputs": [
    {
     "data": {
      "text/html": [
       "<div>\n",
       "<style scoped>\n",
       "    .dataframe tbody tr th:only-of-type {\n",
       "        vertical-align: middle;\n",
       "    }\n",
       "\n",
       "    .dataframe tbody tr th {\n",
       "        vertical-align: top;\n",
       "    }\n",
       "\n",
       "    .dataframe thead th {\n",
       "        text-align: right;\n",
       "    }\n",
       "</style>\n",
       "<table border=\"1\" class=\"dataframe\">\n",
       "  <thead>\n",
       "    <tr style=\"text-align: right;\">\n",
       "      <th></th>\n",
       "      <th>precip</th>\n",
       "      <th>temp_avg</th>\n",
       "      <th>temp_max</th>\n",
       "      <th>temp_min</th>\n",
       "    </tr>\n",
       "    <tr>\n",
       "      <th>DATE</th>\n",
       "      <th></th>\n",
       "      <th></th>\n",
       "      <th></th>\n",
       "      <th></th>\n",
       "    </tr>\n",
       "  </thead>\n",
       "  <tbody>\n",
       "    <tr>\n",
       "      <th>1996-11-17</th>\n",
       "      <td>0.0</td>\n",
       "      <td>79</td>\n",
       "      <td>NaN</td>\n",
       "      <td>73.0</td>\n",
       "    </tr>\n",
       "  </tbody>\n",
       "</table>\n",
       "</div>"
      ],
      "text/plain": [
       "            precip  temp_avg  temp_max  temp_min\n",
       "DATE                                            \n",
       "1996-11-17     0.0        79       NaN      73.0"
      ]
     },
     "execution_count": 25,
     "metadata": {},
     "output_type": "execute_result"
    }
   ],
   "source": [
    "weather_df[weather_df['temp_max'].isnull()]"
   ]
  },
  {
   "cell_type": "markdown",
   "id": "8ea61d77",
   "metadata": {},
   "source": [
    "Fill this one missing value in temp max using backfill"
   ]
  },
  {
   "cell_type": "code",
   "execution_count": 26,
   "id": "8e691558",
   "metadata": {},
   "outputs": [],
   "source": [
    "weather_df['temp_max'] = weather_df['temp_max'].fillna(method='bfill')"
   ]
  },
  {
   "cell_type": "code",
   "execution_count": 27,
   "id": "995e6a87",
   "metadata": {},
   "outputs": [
    {
     "data": {
      "text/plain": [
       "precip      0\n",
       "temp_avg    0\n",
       "temp_max    0\n",
       "temp_min    0\n",
       "dtype: int64"
      ]
     },
     "execution_count": 27,
     "metadata": {},
     "output_type": "execute_result"
    }
   ],
   "source": [
    "weather_df.isna().sum()"
   ]
  },
  {
   "cell_type": "markdown",
   "id": "15eddd5a",
   "metadata": {},
   "source": [
    "All the missing values have been filled."
   ]
  },
  {
   "cell_type": "code",
   "execution_count": 28,
   "id": "a88728e7",
   "metadata": {},
   "outputs": [
    {
     "data": {
      "text/plain": [
       "precip      float64\n",
       "temp_avg      int64\n",
       "temp_max    float64\n",
       "temp_min    float64\n",
       "dtype: object"
      ]
     },
     "execution_count": 28,
     "metadata": {},
     "output_type": "execute_result"
    }
   ],
   "source": [
    "# check the datatypes\n",
    "weather_df.dtypes"
   ]
  },
  {
   "cell_type": "code",
   "execution_count": 29,
   "id": "7722d852",
   "metadata": {},
   "outputs": [
    {
     "data": {
      "text/plain": [
       "Index(['1996-11-17', '1996-11-18', '1996-11-19', '1996-11-20', '1996-11-21',\n",
       "       '1996-11-22', '1996-11-23', '1996-11-24', '1996-11-25', '1996-11-26',\n",
       "       ...\n",
       "       '2022-12-01', '2022-12-02', '2022-12-03', '2022-12-04', '2022-12-05',\n",
       "       '2022-12-06', '2022-12-07', '2022-12-08', '2022-12-09', '2022-12-10'],\n",
       "      dtype='object', name='DATE', length=9494)"
      ]
     },
     "execution_count": 29,
     "metadata": {},
     "output_type": "execute_result"
    }
   ],
   "source": [
    "weather_df.index"
   ]
  },
  {
   "cell_type": "markdown",
   "id": "98c96d13",
   "metadata": {},
   "source": [
    "Index is showing as object. This needs to be converted to datetime."
   ]
  },
  {
   "cell_type": "code",
   "execution_count": 30,
   "id": "b011cae2",
   "metadata": {},
   "outputs": [],
   "source": [
    "weather_df.index = pd.to_datetime(weather_df.index)"
   ]
  },
  {
   "cell_type": "code",
   "execution_count": 31,
   "id": "6d982583",
   "metadata": {},
   "outputs": [
    {
     "data": {
      "text/plain": [
       "DatetimeIndex(['1996-11-17', '1996-11-18', '1996-11-19', '1996-11-20',\n",
       "               '1996-11-21', '1996-11-22', '1996-11-23', '1996-11-24',\n",
       "               '1996-11-25', '1996-11-26',\n",
       "               ...\n",
       "               '2022-12-01', '2022-12-02', '2022-12-03', '2022-12-04',\n",
       "               '2022-12-05', '2022-12-06', '2022-12-07', '2022-12-08',\n",
       "               '2022-12-09', '2022-12-10'],\n",
       "              dtype='datetime64[ns]', name='DATE', length=9494, freq=None)"
      ]
     },
     "execution_count": 31,
     "metadata": {},
     "output_type": "execute_result"
    }
   ],
   "source": [
    "weather_df.index"
   ]
  },
  {
   "cell_type": "code",
   "execution_count": 32,
   "id": "8c376cb0",
   "metadata": {},
   "outputs": [
    {
     "data": {
      "text/plain": [
       "Int64Index([11, 11, 11, 11, 11, 11, 11, 11, 11, 11,\n",
       "            ...\n",
       "            12, 12, 12, 12, 12, 12, 12, 12, 12, 12],\n",
       "           dtype='int64', name='DATE', length=9494)"
      ]
     },
     "execution_count": 32,
     "metadata": {},
     "output_type": "execute_result"
    }
   ],
   "source": [
    "weather_df.index.month"
   ]
  },
  {
   "cell_type": "code",
   "execution_count": 33,
   "id": "cb9ead24",
   "metadata": {},
   "outputs": [
    {
     "data": {
      "text/plain": [
       "precip      0\n",
       "temp_avg    0\n",
       "temp_max    0\n",
       "temp_min    0\n",
       "dtype: int64"
      ]
     },
     "execution_count": 33,
     "metadata": {},
     "output_type": "execute_result"
    }
   ],
   "source": [
    "# check whether any columns have 9999 \n",
    "weather_df.apply(lambda x: (x==999).sum())"
   ]
  },
  {
   "cell_type": "markdown",
   "id": "a9479b27",
   "metadata": {},
   "source": [
    "There are no 9's in the data."
   ]
  },
  {
   "cell_type": "code",
   "execution_count": 34,
   "id": "2083c9fd",
   "metadata": {},
   "outputs": [
    {
     "data": {
      "text/plain": [
       "<AxesSubplot:xlabel='DATE'>"
      ]
     },
     "execution_count": 34,
     "metadata": {},
     "output_type": "execute_result"
    },
    {
     "data": {
      "image/png": "[encoded data removed]",
      "text/plain": [
       "<Figure size 640x480 with 1 Axes>"
      ]
     },
     "metadata": {},
     "output_type": "display_data"
    }
   ],
   "source": [
    "# visualize the data\n",
    "weather_df[['temp_max','temp_min','temp_avg']].plot()"
   ]
  },
  {
   "cell_type": "markdown",
   "id": "3a022758",
   "metadata": {},
   "source": [
    "Data is available for all three columns throughout the period."
   ]
  },
  {
   "cell_type": "code",
   "execution_count": 35,
   "id": "66527ee1",
   "metadata": {},
   "outputs": [
    {
     "data": {
      "text/plain": [
       "<AxesSubplot:xlabel='DATE'>"
      ]
     },
     "execution_count": 35,
     "metadata": {},
     "output_type": "execute_result"
    },
    {
     "data": {
      "image/png": "[encoded data removed]",
      "text/plain": [
       "<Figure size 640x480 with 1 Axes>"
      ]
     },
     "metadata": {},
     "output_type": "display_data"
    }
   ],
   "source": [
    "weather_df['precip'].plot()"
   ]
  },
  {
   "cell_type": "code",
   "execution_count": 36,
   "id": "0c85d4bb",
   "metadata": {},
   "outputs": [
    {
     "data": {
      "text/plain": [
       "DATE\n",
       "1996      9.73\n",
       "1997     66.55\n",
       "1998     79.32\n",
       "1999     59.41\n",
       "2000     49.88\n",
       "2001     78.72\n",
       "2002     48.47\n",
       "2003     48.34\n",
       "2004     67.82\n",
       "2005     69.22\n",
       "2006     79.26\n",
       "2007     74.23\n",
       "2008     58.82\n",
       "2009     50.31\n",
       "2010     83.20\n",
       "2011     51.74\n",
       "2012     39.46\n",
       "2013     67.45\n",
       "2014     69.78\n",
       "2015     88.32\n",
       "2016     41.89\n",
       "2017     55.66\n",
       "2018     76.67\n",
       "2019     67.81\n",
       "2020     84.09\n",
       "2021    103.51\n",
       "2022     59.30\n",
       "Name: precip, dtype: float64"
      ]
     },
     "execution_count": 36,
     "metadata": {},
     "output_type": "execute_result"
    }
   ],
   "source": [
    "# check yearwise precipitation\n",
    "weather_df.groupby(weather_df.index.year).sum()['precip']"
   ]
  },
  {
   "cell_type": "code",
   "execution_count": 37,
   "id": "564d8df4",
   "metadata": {},
   "outputs": [],
   "source": [
    "# create a target column with next day temp max value\n",
    "weather_df['target'] = weather_df.shift(-1)['temp_max']"
   ]
  },
  {
   "cell_type": "code",
   "execution_count": 38,
   "id": "f9fc2419",
   "metadata": {},
   "outputs": [
    {
     "data": {
      "text/html": [
       "<div>\n",
       "<style scoped>\n",
       "    .dataframe tbody tr th:only-of-type {\n",
       "        vertical-align: middle;\n",
       "    }\n",
       "\n",
       "    .dataframe tbody tr th {\n",
       "        vertical-align: top;\n",
       "    }\n",
       "\n",
       "    .dataframe thead th {\n",
       "        text-align: right;\n",
       "    }\n",
       "</style>\n",
       "<table border=\"1\" class=\"dataframe\">\n",
       "  <thead>\n",
       "    <tr style=\"text-align: right;\">\n",
       "      <th></th>\n",
       "      <th>precip</th>\n",
       "      <th>temp_avg</th>\n",
       "      <th>temp_max</th>\n",
       "      <th>temp_min</th>\n",
       "      <th>target</th>\n",
       "    </tr>\n",
       "    <tr>\n",
       "      <th>DATE</th>\n",
       "      <th></th>\n",
       "      <th></th>\n",
       "      <th></th>\n",
       "      <th></th>\n",
       "      <th></th>\n",
       "    </tr>\n",
       "  </thead>\n",
       "  <tbody>\n",
       "    <tr>\n",
       "      <th>1996-11-17</th>\n",
       "      <td>0.00</td>\n",
       "      <td>79</td>\n",
       "      <td>88.0</td>\n",
       "      <td>73.0</td>\n",
       "      <td>88.0</td>\n",
       "    </tr>\n",
       "    <tr>\n",
       "      <th>1996-11-18</th>\n",
       "      <td>0.09</td>\n",
       "      <td>79</td>\n",
       "      <td>88.0</td>\n",
       "      <td>74.0</td>\n",
       "      <td>90.0</td>\n",
       "    </tr>\n",
       "    <tr>\n",
       "      <th>1996-11-19</th>\n",
       "      <td>0.03</td>\n",
       "      <td>80</td>\n",
       "      <td>90.0</td>\n",
       "      <td>75.0</td>\n",
       "      <td>90.0</td>\n",
       "    </tr>\n",
       "    <tr>\n",
       "      <th>1996-11-20</th>\n",
       "      <td>0.15</td>\n",
       "      <td>81</td>\n",
       "      <td>90.0</td>\n",
       "      <td>72.0</td>\n",
       "      <td>86.0</td>\n",
       "    </tr>\n",
       "    <tr>\n",
       "      <th>1996-11-21</th>\n",
       "      <td>0.17</td>\n",
       "      <td>79</td>\n",
       "      <td>86.0</td>\n",
       "      <td>73.0</td>\n",
       "      <td>87.0</td>\n",
       "    </tr>\n",
       "    <tr>\n",
       "      <th>...</th>\n",
       "      <td>...</td>\n",
       "      <td>...</td>\n",
       "      <td>...</td>\n",
       "      <td>...</td>\n",
       "      <td>...</td>\n",
       "    </tr>\n",
       "    <tr>\n",
       "      <th>2022-12-06</th>\n",
       "      <td>0.00</td>\n",
       "      <td>81</td>\n",
       "      <td>90.0</td>\n",
       "      <td>76.0</td>\n",
       "      <td>92.0</td>\n",
       "    </tr>\n",
       "    <tr>\n",
       "      <th>2022-12-07</th>\n",
       "      <td>0.00</td>\n",
       "      <td>81</td>\n",
       "      <td>92.0</td>\n",
       "      <td>75.0</td>\n",
       "      <td>88.0</td>\n",
       "    </tr>\n",
       "    <tr>\n",
       "      <th>2022-12-08</th>\n",
       "      <td>0.00</td>\n",
       "      <td>79</td>\n",
       "      <td>88.0</td>\n",
       "      <td>76.0</td>\n",
       "      <td>85.0</td>\n",
       "    </tr>\n",
       "    <tr>\n",
       "      <th>2022-12-09</th>\n",
       "      <td>0.01</td>\n",
       "      <td>80</td>\n",
       "      <td>85.0</td>\n",
       "      <td>76.0</td>\n",
       "      <td>85.0</td>\n",
       "    </tr>\n",
       "    <tr>\n",
       "      <th>2022-12-10</th>\n",
       "      <td>0.00</td>\n",
       "      <td>79</td>\n",
       "      <td>85.0</td>\n",
       "      <td>74.0</td>\n",
       "      <td>NaN</td>\n",
       "    </tr>\n",
       "  </tbody>\n",
       "</table>\n",
       "<p>9494 rows × 5 columns</p>\n",
       "</div>"
      ],
      "text/plain": [
       "            precip  temp_avg  temp_max  temp_min  target\n",
       "DATE                                                    \n",
       "1996-11-17    0.00        79      88.0      73.0    88.0\n",
       "1996-11-18    0.09        79      88.0      74.0    90.0\n",
       "1996-11-19    0.03        80      90.0      75.0    90.0\n",
       "1996-11-20    0.15        81      90.0      72.0    86.0\n",
       "1996-11-21    0.17        79      86.0      73.0    87.0\n",
       "...            ...       ...       ...       ...     ...\n",
       "2022-12-06    0.00        81      90.0      76.0    92.0\n",
       "2022-12-07    0.00        81      92.0      75.0    88.0\n",
       "2022-12-08    0.00        79      88.0      76.0    85.0\n",
       "2022-12-09    0.01        80      85.0      76.0    85.0\n",
       "2022-12-10    0.00        79      85.0      74.0     NaN\n",
       "\n",
       "[9494 rows x 5 columns]"
      ]
     },
     "execution_count": 38,
     "metadata": {},
     "output_type": "execute_result"
    }
   ],
   "source": [
    "weather_df"
   ]
  },
  {
   "cell_type": "code",
   "execution_count": 39,
   "id": "2ec78e50",
   "metadata": {},
   "outputs": [],
   "source": [
    "#remove last row\n",
    "weather_df = weather_df.iloc[:-1,:].copy()"
   ]
  },
  {
   "cell_type": "markdown",
   "id": "f9377df1",
   "metadata": {},
   "source": [
    "### Ridge Regression"
   ]
  },
  {
   "cell_type": "code",
   "execution_count": 40,
   "id": "6e2e8988",
   "metadata": {},
   "outputs": [],
   "source": [
    "from sklearn.linear_model import Ridge"
   ]
  },
  {
   "cell_type": "code",
   "execution_count": 41,
   "id": "25ca7d68",
   "metadata": {},
   "outputs": [],
   "source": [
    "reg = Ridge(alpha=.1)"
   ]
  },
  {
   "cell_type": "code",
   "execution_count": 42,
   "id": "d32684c5",
   "metadata": {},
   "outputs": [],
   "source": [
    "features = ['precip','temp_avg','temp_max','temp_min']"
   ]
  },
  {
   "cell_type": "code",
   "execution_count": 43,
   "id": "860ac2ca",
   "metadata": {},
   "outputs": [],
   "source": [
    "# split data into test and train based on dates\n",
    "train = weather_df.loc[:\"2021-1-31\"]\n",
    "test = weather_df.loc[\"2021-2-1\":]"
   ]
  },
  {
   "cell_type": "code",
   "execution_count": 44,
   "id": "e33685b9",
   "metadata": {},
   "outputs": [
    {
     "data": {
      "text/plain": [
       "Ridge(alpha=0.1)"
      ]
     },
     "execution_count": 44,
     "metadata": {},
     "output_type": "execute_result"
    }
   ],
   "source": [
    "reg.fit(train[features],train['target'])"
   ]
  },
  {
   "cell_type": "code",
   "execution_count": 45,
   "id": "054c959a",
   "metadata": {},
   "outputs": [],
   "source": [
    "reg_pred = reg.predict(test[features])"
   ]
  },
  {
   "cell_type": "code",
   "execution_count": 46,
   "id": "3e15838b",
   "metadata": {},
   "outputs": [],
   "source": [
    "# check accuracy of model\n",
    "from sklearn.metrics import mean_absolute_error"
   ]
  },
  {
   "cell_type": "code",
   "execution_count": 47,
   "id": "ff50db8d",
   "metadata": {},
   "outputs": [
    {
     "data": {
      "text/plain": [
       "0.977655456441027"
      ]
     },
     "execution_count": 47,
     "metadata": {},
     "output_type": "execute_result"
    }
   ],
   "source": [
    "mean_absolute_error(test['target'], reg_pred)"
   ]
  },
  {
   "cell_type": "code",
   "execution_count": 48,
   "id": "795ea916",
   "metadata": {},
   "outputs": [],
   "source": [
    "# combine actual and predictions\n",
    "\n",
    "comb_df = pd.concat([test['target'], pd.Series(reg_pred,index=test.index)], axis=1)"
   ]
  },
  {
   "cell_type": "code",
   "execution_count": 49,
   "id": "fce09932",
   "metadata": {},
   "outputs": [],
   "source": [
    "comb_df.columns = ['actual','predictions']"
   ]
  },
  {
   "cell_type": "code",
   "execution_count": 50,
   "id": "280a9a12",
   "metadata": {},
   "outputs": [
    {
     "data": {
      "text/html": [
       "<div>\n",
       "<style scoped>\n",
       "    .dataframe tbody tr th:only-of-type {\n",
       "        vertical-align: middle;\n",
       "    }\n",
       "\n",
       "    .dataframe tbody tr th {\n",
       "        vertical-align: top;\n",
       "    }\n",
       "\n",
       "    .dataframe thead th {\n",
       "        text-align: right;\n",
       "    }\n",
       "</style>\n",
       "<table border=\"1\" class=\"dataframe\">\n",
       "  <thead>\n",
       "    <tr style=\"text-align: right;\">\n",
       "      <th></th>\n",
       "      <th>actual</th>\n",
       "      <th>predictions</th>\n",
       "    </tr>\n",
       "    <tr>\n",
       "      <th>DATE</th>\n",
       "      <th></th>\n",
       "      <th></th>\n",
       "    </tr>\n",
       "  </thead>\n",
       "  <tbody>\n",
       "    <tr>\n",
       "      <th>2021-02-01</th>\n",
       "      <td>93.0</td>\n",
       "      <td>92.038498</td>\n",
       "    </tr>\n",
       "    <tr>\n",
       "      <th>2021-02-02</th>\n",
       "      <td>92.0</td>\n",
       "      <td>92.350022</td>\n",
       "    </tr>\n",
       "    <tr>\n",
       "      <th>2021-02-03</th>\n",
       "      <td>95.0</td>\n",
       "      <td>92.607882</td>\n",
       "    </tr>\n",
       "    <tr>\n",
       "      <th>2021-02-04</th>\n",
       "      <td>95.0</td>\n",
       "      <td>93.538338</td>\n",
       "    </tr>\n",
       "    <tr>\n",
       "      <th>2021-02-05</th>\n",
       "      <td>94.0</td>\n",
       "      <td>93.198354</td>\n",
       "    </tr>\n",
       "    <tr>\n",
       "      <th>...</th>\n",
       "      <td>...</td>\n",
       "      <td>...</td>\n",
       "    </tr>\n",
       "    <tr>\n",
       "      <th>2022-12-05</th>\n",
       "      <td>90.0</td>\n",
       "      <td>89.979382</td>\n",
       "    </tr>\n",
       "    <tr>\n",
       "      <th>2022-12-06</th>\n",
       "      <td>92.0</td>\n",
       "      <td>89.715528</td>\n",
       "    </tr>\n",
       "    <tr>\n",
       "      <th>2022-12-07</th>\n",
       "      <td>88.0</td>\n",
       "      <td>90.903844</td>\n",
       "    </tr>\n",
       "    <tr>\n",
       "      <th>2022-12-08</th>\n",
       "      <td>85.0</td>\n",
       "      <td>87.732543</td>\n",
       "    </tr>\n",
       "    <tr>\n",
       "      <th>2022-12-09</th>\n",
       "      <td>85.0</td>\n",
       "      <td>86.577787</td>\n",
       "    </tr>\n",
       "  </tbody>\n",
       "</table>\n",
       "<p>674 rows × 2 columns</p>\n",
       "</div>"
      ],
      "text/plain": [
       "            actual  predictions\n",
       "DATE                           \n",
       "2021-02-01    93.0    92.038498\n",
       "2021-02-02    92.0    92.350022\n",
       "2021-02-03    95.0    92.607882\n",
       "2021-02-04    95.0    93.538338\n",
       "2021-02-05    94.0    93.198354\n",
       "...            ...          ...\n",
       "2022-12-05    90.0    89.979382\n",
       "2022-12-06    92.0    89.715528\n",
       "2022-12-07    88.0    90.903844\n",
       "2022-12-08    85.0    87.732543\n",
       "2022-12-09    85.0    86.577787\n",
       "\n",
       "[674 rows x 2 columns]"
      ]
     },
     "execution_count": 50,
     "metadata": {},
     "output_type": "execute_result"
    }
   ],
   "source": [
    "comb_df"
   ]
  },
  {
   "cell_type": "code",
   "execution_count": 51,
   "id": "47cd24d8",
   "metadata": {},
   "outputs": [
    {
     "data": {
      "text/plain": [
       "<AxesSubplot:xlabel='DATE'>"
      ]
     },
     "execution_count": 51,
     "metadata": {},
     "output_type": "execute_result"
    },
    {
     "data": {
      "image/png": "[encoded data removed]",
      "text/plain": [
       "<Figure size 640x480 with 1 Axes>"
      ]
     },
     "metadata": {},
     "output_type": "display_data"
    }
   ],
   "source": [
    "# plot actual vs predicted values\n",
    "comb_df.plot()"
   ]
  },
  {
   "cell_type": "code",
   "execution_count": 52,
   "id": "b555ede5",
   "metadata": {},
   "outputs": [
    {
     "data": {
      "text/plain": [
       "array([ 0.09843981,  0.45468457,  0.53680813, -0.11470028])"
      ]
     },
     "execution_count": 52,
     "metadata": {},
     "output_type": "execute_result"
    }
   ],
   "source": [
    "reg.coef_"
   ]
  },
  {
   "cell_type": "code",
   "execution_count": 53,
   "id": "0a559643",
   "metadata": {},
   "outputs": [],
   "source": [
    "# create a function to predict\n",
    "def make_predictions(features, weather_df,reg):\n",
    "    train = weather_df.loc[:\"2021-1-31\"]\n",
    "    test = weather_df.loc[\"2021-2-1\":]\n",
    "    reg.fit(train[features],train['target'])\n",
    "    reg_pred = reg.predict(test[features])\n",
    "    error = mean_absolute_error(test['target'], reg_pred)\n",
    "    comb_df = pd.concat([test['target'], pd.Series(reg_pred,index=test.index)], axis=1)\n",
    "    comb_df.columns = ['actual','predictions']\n",
    "    return error, comb_df"
   ]
  },
  {
   "cell_type": "code",
   "execution_count": 54,
   "id": "b737709e",
   "metadata": {},
   "outputs": [],
   "source": [
    "# rolling mean , to find average temperature of a month\n",
    "weather_df['month_max'] = weather_df['temp_max'].rolling(30).mean()"
   ]
  },
  {
   "cell_type": "code",
   "execution_count": 55,
   "id": "79d1aa11",
   "metadata": {},
   "outputs": [
    {
     "data": {
      "text/html": [
       "<div>\n",
       "<style scoped>\n",
       "    .dataframe tbody tr th:only-of-type {\n",
       "        vertical-align: middle;\n",
       "    }\n",
       "\n",
       "    .dataframe tbody tr th {\n",
       "        vertical-align: top;\n",
       "    }\n",
       "\n",
       "    .dataframe thead th {\n",
       "        text-align: right;\n",
       "    }\n",
       "</style>\n",
       "<table border=\"1\" class=\"dataframe\">\n",
       "  <thead>\n",
       "    <tr style=\"text-align: right;\">\n",
       "      <th></th>\n",
       "      <th>precip</th>\n",
       "      <th>temp_avg</th>\n",
       "      <th>temp_max</th>\n",
       "      <th>temp_min</th>\n",
       "      <th>target</th>\n",
       "      <th>month_max</th>\n",
       "    </tr>\n",
       "    <tr>\n",
       "      <th>DATE</th>\n",
       "      <th></th>\n",
       "      <th></th>\n",
       "      <th></th>\n",
       "      <th></th>\n",
       "      <th></th>\n",
       "      <th></th>\n",
       "    </tr>\n",
       "  </thead>\n",
       "  <tbody>\n",
       "    <tr>\n",
       "      <th>1996-11-17</th>\n",
       "      <td>0.00</td>\n",
       "      <td>79</td>\n",
       "      <td>88.0</td>\n",
       "      <td>73.0</td>\n",
       "      <td>88.0</td>\n",
       "      <td>NaN</td>\n",
       "    </tr>\n",
       "    <tr>\n",
       "      <th>1996-11-18</th>\n",
       "      <td>0.09</td>\n",
       "      <td>79</td>\n",
       "      <td>88.0</td>\n",
       "      <td>74.0</td>\n",
       "      <td>90.0</td>\n",
       "      <td>NaN</td>\n",
       "    </tr>\n",
       "    <tr>\n",
       "      <th>1996-11-19</th>\n",
       "      <td>0.03</td>\n",
       "      <td>80</td>\n",
       "      <td>90.0</td>\n",
       "      <td>75.0</td>\n",
       "      <td>90.0</td>\n",
       "      <td>NaN</td>\n",
       "    </tr>\n",
       "    <tr>\n",
       "      <th>1996-11-20</th>\n",
       "      <td>0.15</td>\n",
       "      <td>81</td>\n",
       "      <td>90.0</td>\n",
       "      <td>72.0</td>\n",
       "      <td>86.0</td>\n",
       "      <td>NaN</td>\n",
       "    </tr>\n",
       "    <tr>\n",
       "      <th>1996-11-21</th>\n",
       "      <td>0.17</td>\n",
       "      <td>79</td>\n",
       "      <td>86.0</td>\n",
       "      <td>73.0</td>\n",
       "      <td>87.0</td>\n",
       "      <td>NaN</td>\n",
       "    </tr>\n",
       "    <tr>\n",
       "      <th>...</th>\n",
       "      <td>...</td>\n",
       "      <td>...</td>\n",
       "      <td>...</td>\n",
       "      <td>...</td>\n",
       "      <td>...</td>\n",
       "      <td>...</td>\n",
       "    </tr>\n",
       "    <tr>\n",
       "      <th>2022-12-05</th>\n",
       "      <td>0.35</td>\n",
       "      <td>81</td>\n",
       "      <td>90.0</td>\n",
       "      <td>74.0</td>\n",
       "      <td>90.0</td>\n",
       "      <td>90.033333</td>\n",
       "    </tr>\n",
       "    <tr>\n",
       "      <th>2022-12-06</th>\n",
       "      <td>0.00</td>\n",
       "      <td>81</td>\n",
       "      <td>90.0</td>\n",
       "      <td>76.0</td>\n",
       "      <td>92.0</td>\n",
       "      <td>90.066667</td>\n",
       "    </tr>\n",
       "    <tr>\n",
       "      <th>2022-12-07</th>\n",
       "      <td>0.00</td>\n",
       "      <td>81</td>\n",
       "      <td>92.0</td>\n",
       "      <td>75.0</td>\n",
       "      <td>88.0</td>\n",
       "      <td>90.166667</td>\n",
       "    </tr>\n",
       "    <tr>\n",
       "      <th>2022-12-08</th>\n",
       "      <td>0.00</td>\n",
       "      <td>79</td>\n",
       "      <td>88.0</td>\n",
       "      <td>76.0</td>\n",
       "      <td>85.0</td>\n",
       "      <td>90.100000</td>\n",
       "    </tr>\n",
       "    <tr>\n",
       "      <th>2022-12-09</th>\n",
       "      <td>0.01</td>\n",
       "      <td>80</td>\n",
       "      <td>85.0</td>\n",
       "      <td>76.0</td>\n",
       "      <td>85.0</td>\n",
       "      <td>89.933333</td>\n",
       "    </tr>\n",
       "  </tbody>\n",
       "</table>\n",
       "<p>9493 rows × 6 columns</p>\n",
       "</div>"
      ],
      "text/plain": [
       "            precip  temp_avg  temp_max  temp_min  target  month_max\n",
       "DATE                                                               \n",
       "1996-11-17    0.00        79      88.0      73.0    88.0        NaN\n",
       "1996-11-18    0.09        79      88.0      74.0    90.0        NaN\n",
       "1996-11-19    0.03        80      90.0      75.0    90.0        NaN\n",
       "1996-11-20    0.15        81      90.0      72.0    86.0        NaN\n",
       "1996-11-21    0.17        79      86.0      73.0    87.0        NaN\n",
       "...            ...       ...       ...       ...     ...        ...\n",
       "2022-12-05    0.35        81      90.0      74.0    90.0  90.033333\n",
       "2022-12-06    0.00        81      90.0      76.0    92.0  90.066667\n",
       "2022-12-07    0.00        81      92.0      75.0    88.0  90.166667\n",
       "2022-12-08    0.00        79      88.0      76.0    85.0  90.100000\n",
       "2022-12-09    0.01        80      85.0      76.0    85.0  89.933333\n",
       "\n",
       "[9493 rows x 6 columns]"
      ]
     },
     "execution_count": 55,
     "metadata": {},
     "output_type": "execute_result"
    }
   ],
   "source": [
    "weather_df"
   ]
  },
  {
   "cell_type": "code",
   "execution_count": 56,
   "id": "30d7945d",
   "metadata": {},
   "outputs": [],
   "source": [
    "# check temperature difference for a particular day from monthly mean\n",
    "weather_df['month_day_max'] = weather_df['month_max']/weather_df['temp_max']"
   ]
  },
  {
   "cell_type": "code",
   "execution_count": 57,
   "id": "13e35869",
   "metadata": {},
   "outputs": [],
   "source": [
    "# ratio of max temp to min temp\n",
    "weather_df['max_min'] = weather_df['temp_max']/weather_df['temp_min']"
   ]
  },
  {
   "cell_type": "code",
   "execution_count": 58,
   "id": "8ee7e3a3",
   "metadata": {},
   "outputs": [
    {
     "data": {
      "text/plain": [
       "Index(['precip', 'temp_avg', 'temp_max', 'temp_min', 'target', 'month_max',\n",
       "       'month_day_max', 'max_min'],\n",
       "      dtype='object')"
      ]
     },
     "execution_count": 58,
     "metadata": {},
     "output_type": "execute_result"
    }
   ],
   "source": [
    "weather_df.columns"
   ]
  },
  {
   "cell_type": "code",
   "execution_count": 59,
   "id": "a9ca707e",
   "metadata": {},
   "outputs": [],
   "source": [
    "features = ['precip','temp_avg','temp_max','temp_min','month_max',\n",
    "       'month_day_max', 'max_min']"
   ]
  },
  {
   "cell_type": "code",
   "execution_count": 60,
   "id": "bb733787",
   "metadata": {},
   "outputs": [],
   "source": [
    "weather_df = weather_df.iloc[30:,:].copy()"
   ]
  },
  {
   "cell_type": "code",
   "execution_count": 61,
   "id": "6a53ffb3",
   "metadata": {},
   "outputs": [],
   "source": [
    "# run function again with the new columns\n",
    "error, comb_df = make_predictions(features, weather_df,reg)"
   ]
  },
  {
   "cell_type": "code",
   "execution_count": 62,
   "id": "1fc08544",
   "metadata": {},
   "outputs": [
    {
     "data": {
      "text/plain": [
       "0.9943130556987974"
      ]
     },
     "execution_count": 62,
     "metadata": {},
     "output_type": "execute_result"
    }
   ],
   "source": [
    "error"
   ]
  },
  {
   "cell_type": "code",
   "execution_count": 63,
   "id": "9ca56a12",
   "metadata": {},
   "outputs": [
    {
     "data": {
      "text/plain": [
       "<AxesSubplot:xlabel='DATE'>"
      ]
     },
     "execution_count": 63,
     "metadata": {},
     "output_type": "execute_result"
    },
    {
     "data": {
      "image/png": "[encoded data removed]",
      "text/plain": [
       "<Figure size 640x480 with 1 Axes>"
      ]
     },
     "metadata": {},
     "output_type": "display_data"
    }
   ],
   "source": [
    "comb_df.plot()"
   ]
  },
  {
   "cell_type": "code",
   "execution_count": 64,
   "id": "5db12497",
   "metadata": {},
   "outputs": [],
   "source": [
    "# find monthly average temp\n",
    "weather_df['monthly_avg'] = weather_df['temp_max'].groupby(weather_df.index.month).apply(lambda x: x.expanding(1).mean())"
   ]
  },
  {
   "cell_type": "code",
   "execution_count": 65,
   "id": "1979f434",
   "metadata": {},
   "outputs": [
    {
     "data": {
      "text/html": [
       "<div>\n",
       "<style scoped>\n",
       "    .dataframe tbody tr th:only-of-type {\n",
       "        vertical-align: middle;\n",
       "    }\n",
       "\n",
       "    .dataframe tbody tr th {\n",
       "        vertical-align: top;\n",
       "    }\n",
       "\n",
       "    .dataframe thead th {\n",
       "        text-align: right;\n",
       "    }\n",
       "</style>\n",
       "<table border=\"1\" class=\"dataframe\">\n",
       "  <thead>\n",
       "    <tr style=\"text-align: right;\">\n",
       "      <th></th>\n",
       "      <th>precip</th>\n",
       "      <th>temp_avg</th>\n",
       "      <th>temp_max</th>\n",
       "      <th>temp_min</th>\n",
       "      <th>target</th>\n",
       "      <th>month_max</th>\n",
       "      <th>month_day_max</th>\n",
       "      <th>max_min</th>\n",
       "      <th>monthly_avg</th>\n",
       "    </tr>\n",
       "    <tr>\n",
       "      <th>DATE</th>\n",
       "      <th></th>\n",
       "      <th></th>\n",
       "      <th></th>\n",
       "      <th></th>\n",
       "      <th></th>\n",
       "      <th></th>\n",
       "      <th></th>\n",
       "      <th></th>\n",
       "      <th></th>\n",
       "    </tr>\n",
       "  </thead>\n",
       "  <tbody>\n",
       "    <tr>\n",
       "      <th>1996-12-17</th>\n",
       "      <td>0.00</td>\n",
       "      <td>80</td>\n",
       "      <td>88.0</td>\n",
       "      <td>73.0</td>\n",
       "      <td>87.0</td>\n",
       "      <td>86.466667</td>\n",
       "      <td>0.982576</td>\n",
       "      <td>1.205479</td>\n",
       "      <td>88.000000</td>\n",
       "    </tr>\n",
       "    <tr>\n",
       "      <th>1996-12-18</th>\n",
       "      <td>0.00</td>\n",
       "      <td>80</td>\n",
       "      <td>87.0</td>\n",
       "      <td>74.0</td>\n",
       "      <td>91.0</td>\n",
       "      <td>86.433333</td>\n",
       "      <td>0.993487</td>\n",
       "      <td>1.175676</td>\n",
       "      <td>87.500000</td>\n",
       "    </tr>\n",
       "    <tr>\n",
       "      <th>1996-12-19</th>\n",
       "      <td>0.01</td>\n",
       "      <td>80</td>\n",
       "      <td>91.0</td>\n",
       "      <td>72.0</td>\n",
       "      <td>91.0</td>\n",
       "      <td>86.466667</td>\n",
       "      <td>0.950183</td>\n",
       "      <td>1.263889</td>\n",
       "      <td>88.666667</td>\n",
       "    </tr>\n",
       "    <tr>\n",
       "      <th>1996-12-20</th>\n",
       "      <td>0.00</td>\n",
       "      <td>80</td>\n",
       "      <td>91.0</td>\n",
       "      <td>72.0</td>\n",
       "      <td>92.0</td>\n",
       "      <td>86.500000</td>\n",
       "      <td>0.950549</td>\n",
       "      <td>1.263889</td>\n",
       "      <td>89.250000</td>\n",
       "    </tr>\n",
       "    <tr>\n",
       "      <th>1996-12-21</th>\n",
       "      <td>0.00</td>\n",
       "      <td>78</td>\n",
       "      <td>92.0</td>\n",
       "      <td>68.0</td>\n",
       "      <td>90.0</td>\n",
       "      <td>86.700000</td>\n",
       "      <td>0.942391</td>\n",
       "      <td>1.352941</td>\n",
       "      <td>89.800000</td>\n",
       "    </tr>\n",
       "    <tr>\n",
       "      <th>...</th>\n",
       "      <td>...</td>\n",
       "      <td>...</td>\n",
       "      <td>...</td>\n",
       "      <td>...</td>\n",
       "      <td>...</td>\n",
       "      <td>...</td>\n",
       "      <td>...</td>\n",
       "      <td>...</td>\n",
       "      <td>...</td>\n",
       "    </tr>\n",
       "    <tr>\n",
       "      <th>2022-12-05</th>\n",
       "      <td>0.35</td>\n",
       "      <td>81</td>\n",
       "      <td>90.0</td>\n",
       "      <td>74.0</td>\n",
       "      <td>90.0</td>\n",
       "      <td>90.033333</td>\n",
       "      <td>1.000370</td>\n",
       "      <td>1.216216</td>\n",
       "      <td>90.348866</td>\n",
       "    </tr>\n",
       "    <tr>\n",
       "      <th>2022-12-06</th>\n",
       "      <td>0.00</td>\n",
       "      <td>81</td>\n",
       "      <td>90.0</td>\n",
       "      <td>76.0</td>\n",
       "      <td>92.0</td>\n",
       "      <td>90.066667</td>\n",
       "      <td>1.000741</td>\n",
       "      <td>1.184211</td>\n",
       "      <td>90.348428</td>\n",
       "    </tr>\n",
       "    <tr>\n",
       "      <th>2022-12-07</th>\n",
       "      <td>0.00</td>\n",
       "      <td>81</td>\n",
       "      <td>92.0</td>\n",
       "      <td>75.0</td>\n",
       "      <td>88.0</td>\n",
       "      <td>90.166667</td>\n",
       "      <td>0.980072</td>\n",
       "      <td>1.226667</td>\n",
       "      <td>90.350503</td>\n",
       "    </tr>\n",
       "    <tr>\n",
       "      <th>2022-12-08</th>\n",
       "      <td>0.00</td>\n",
       "      <td>79</td>\n",
       "      <td>88.0</td>\n",
       "      <td>76.0</td>\n",
       "      <td>85.0</td>\n",
       "      <td>90.100000</td>\n",
       "      <td>1.023864</td>\n",
       "      <td>1.157895</td>\n",
       "      <td>90.347553</td>\n",
       "    </tr>\n",
       "    <tr>\n",
       "      <th>2022-12-09</th>\n",
       "      <td>0.01</td>\n",
       "      <td>80</td>\n",
       "      <td>85.0</td>\n",
       "      <td>76.0</td>\n",
       "      <td>85.0</td>\n",
       "      <td>89.933333</td>\n",
       "      <td>1.058039</td>\n",
       "      <td>1.118421</td>\n",
       "      <td>90.340852</td>\n",
       "    </tr>\n",
       "  </tbody>\n",
       "</table>\n",
       "<p>9463 rows × 9 columns</p>\n",
       "</div>"
      ],
      "text/plain": [
       "            precip  temp_avg  temp_max  temp_min  target  month_max  \\\n",
       "DATE                                                                  \n",
       "1996-12-17    0.00        80      88.0      73.0    87.0  86.466667   \n",
       "1996-12-18    0.00        80      87.0      74.0    91.0  86.433333   \n",
       "1996-12-19    0.01        80      91.0      72.0    91.0  86.466667   \n",
       "1996-12-20    0.00        80      91.0      72.0    92.0  86.500000   \n",
       "1996-12-21    0.00        78      92.0      68.0    90.0  86.700000   \n",
       "...            ...       ...       ...       ...     ...        ...   \n",
       "2022-12-05    0.35        81      90.0      74.0    90.0  90.033333   \n",
       "2022-12-06    0.00        81      90.0      76.0    92.0  90.066667   \n",
       "2022-12-07    0.00        81      92.0      75.0    88.0  90.166667   \n",
       "2022-12-08    0.00        79      88.0      76.0    85.0  90.100000   \n",
       "2022-12-09    0.01        80      85.0      76.0    85.0  89.933333   \n",
       "\n",
       "            month_day_max   max_min  monthly_avg  \n",
       "DATE                                              \n",
       "1996-12-17       0.982576  1.205479    88.000000  \n",
       "1996-12-18       0.993487  1.175676    87.500000  \n",
       "1996-12-19       0.950183  1.263889    88.666667  \n",
       "1996-12-20       0.950549  1.263889    89.250000  \n",
       "1996-12-21       0.942391  1.352941    89.800000  \n",
       "...                   ...       ...          ...  \n",
       "2022-12-05       1.000370  1.216216    90.348866  \n",
       "2022-12-06       1.000741  1.184211    90.348428  \n",
       "2022-12-07       0.980072  1.226667    90.350503  \n",
       "2022-12-08       1.023864  1.157895    90.347553  \n",
       "2022-12-09       1.058039  1.118421    90.340852  \n",
       "\n",
       "[9463 rows x 9 columns]"
      ]
     },
     "execution_count": 65,
     "metadata": {},
     "output_type": "execute_result"
    }
   ],
   "source": [
    "weather_df"
   ]
  },
  {
   "cell_type": "code",
   "execution_count": 66,
   "id": "66b7ccd5",
   "metadata": {},
   "outputs": [],
   "source": [
    "# average temp of particular day in the year\n",
    "weather_df['day_of_year_avg'] = weather_df['temp_max'].groupby(weather_df.index.day_of_year).apply(lambda x: x.expanding(1).mean())"
   ]
  },
  {
   "cell_type": "code",
   "execution_count": 67,
   "id": "6dfd5e8b",
   "metadata": {},
   "outputs": [
    {
     "data": {
      "text/plain": [
       "Index(['precip', 'temp_avg', 'temp_max', 'temp_min', 'target', 'month_max',\n",
       "       'month_day_max', 'max_min', 'monthly_avg', 'day_of_year_avg'],\n",
       "      dtype='object')"
      ]
     },
     "execution_count": 67,
     "metadata": {},
     "output_type": "execute_result"
    }
   ],
   "source": [
    "weather_df.columns"
   ]
  },
  {
   "cell_type": "code",
   "execution_count": 68,
   "id": "f1680633",
   "metadata": {},
   "outputs": [],
   "source": [
    "features = ['precip', 'temp_avg', 'temp_max', 'temp_min', 'month_max',\n",
    "       'month_day_max', 'max_min', 'monthly_avg', 'day_of_year_avg']"
   ]
  },
  {
   "cell_type": "code",
   "execution_count": 69,
   "id": "724195ef",
   "metadata": {},
   "outputs": [],
   "source": [
    "error, comb_df = make_predictions(features, weather_df, reg)"
   ]
  },
  {
   "cell_type": "code",
   "execution_count": 70,
   "id": "520b19df",
   "metadata": {},
   "outputs": [
    {
     "data": {
      "text/plain": [
       "0.9831260466290844"
      ]
     },
     "execution_count": 70,
     "metadata": {},
     "output_type": "execute_result"
    }
   ],
   "source": [
    "error"
   ]
  },
  {
   "cell_type": "code",
   "execution_count": 71,
   "id": "58b83e1f",
   "metadata": {},
   "outputs": [
    {
     "data": {
      "text/plain": [
       "array([-1.43036467e-01,  3.74028166e-01,  5.94767518e-01, -1.31614212e-01,\n",
       "       -1.49006443e-02,  1.68131742e+01, -9.64704429e-01,  2.13415862e-01,\n",
       "       -6.29781470e-03])"
      ]
     },
     "execution_count": 71,
     "metadata": {},
     "output_type": "execute_result"
    }
   ],
   "source": [
    "reg.coef_"
   ]
  },
  {
   "cell_type": "code",
   "execution_count": 72,
   "id": "23a6b7c7",
   "metadata": {},
   "outputs": [
    {
     "data": {
      "text/plain": [
       "precip            -0.294949\n",
       "temp_avg           0.703098\n",
       "temp_max           0.771108\n",
       "temp_min           0.289298\n",
       "target             1.000000\n",
       "month_max          0.661078\n",
       "month_day_max     -0.382998\n",
       "max_min            0.452109\n",
       "monthly_avg        0.647558\n",
       "day_of_year_avg    0.670892\n",
       "Name: target, dtype: float64"
      ]
     },
     "execution_count": 72,
     "metadata": {},
     "output_type": "execute_result"
    }
   ],
   "source": [
    "weather_df.corr()['target']"
   ]
  },
  {
   "cell_type": "markdown",
   "id": "c9e4aa73",
   "metadata": {},
   "source": [
    "Most of the columns have high correlation with the target."
   ]
  },
  {
   "cell_type": "code",
   "execution_count": 73,
   "id": "21db3883",
   "metadata": {},
   "outputs": [],
   "source": [
    "# find difference b/w actual and predicted value\n",
    "comb_df['diff'] = (comb_df['actual'] - comb_df['predictions']).abs()"
   ]
  },
  {
   "cell_type": "code",
   "execution_count": 74,
   "id": "c0f4eea3",
   "metadata": {},
   "outputs": [
    {
     "data": {
      "text/html": [
       "<div>\n",
       "<style scoped>\n",
       "    .dataframe tbody tr th:only-of-type {\n",
       "        vertical-align: middle;\n",
       "    }\n",
       "\n",
       "    .dataframe tbody tr th {\n",
       "        vertical-align: top;\n",
       "    }\n",
       "\n",
       "    .dataframe thead th {\n",
       "        text-align: right;\n",
       "    }\n",
       "</style>\n",
       "<table border=\"1\" class=\"dataframe\">\n",
       "  <thead>\n",
       "    <tr style=\"text-align: right;\">\n",
       "      <th></th>\n",
       "      <th>actual</th>\n",
       "      <th>predictions</th>\n",
       "      <th>diff</th>\n",
       "    </tr>\n",
       "    <tr>\n",
       "      <th>DATE</th>\n",
       "      <th></th>\n",
       "      <th></th>\n",
       "      <th></th>\n",
       "    </tr>\n",
       "  </thead>\n",
       "  <tbody>\n",
       "    <tr>\n",
       "      <th>2022-08-01</th>\n",
       "      <td>80.0</td>\n",
       "      <td>87.149874</td>\n",
       "      <td>7.149874</td>\n",
       "    </tr>\n",
       "    <tr>\n",
       "      <th>2022-05-18</th>\n",
       "      <td>81.0</td>\n",
       "      <td>87.860231</td>\n",
       "      <td>6.860231</td>\n",
       "    </tr>\n",
       "    <tr>\n",
       "      <th>2022-08-14</th>\n",
       "      <td>95.0</td>\n",
       "      <td>89.018954</td>\n",
       "      <td>5.981046</td>\n",
       "    </tr>\n",
       "    <tr>\n",
       "      <th>2022-04-13</th>\n",
       "      <td>86.0</td>\n",
       "      <td>90.483609</td>\n",
       "      <td>4.483609</td>\n",
       "    </tr>\n",
       "    <tr>\n",
       "      <th>2022-09-24</th>\n",
       "      <td>94.0</td>\n",
       "      <td>89.706929</td>\n",
       "      <td>4.293071</td>\n",
       "    </tr>\n",
       "    <tr>\n",
       "      <th>...</th>\n",
       "      <td>...</td>\n",
       "      <td>...</td>\n",
       "      <td>...</td>\n",
       "    </tr>\n",
       "    <tr>\n",
       "      <th>2021-12-07</th>\n",
       "      <td>90.0</td>\n",
       "      <td>89.991299</td>\n",
       "      <td>0.008701</td>\n",
       "    </tr>\n",
       "    <tr>\n",
       "      <th>2021-12-08</th>\n",
       "      <td>90.0</td>\n",
       "      <td>90.005186</td>\n",
       "      <td>0.005186</td>\n",
       "    </tr>\n",
       "    <tr>\n",
       "      <th>2021-09-25</th>\n",
       "      <td>90.0</td>\n",
       "      <td>89.995722</td>\n",
       "      <td>0.004278</td>\n",
       "    </tr>\n",
       "    <tr>\n",
       "      <th>2022-03-16</th>\n",
       "      <td>95.0</td>\n",
       "      <td>94.996109</td>\n",
       "      <td>0.003891</td>\n",
       "    </tr>\n",
       "    <tr>\n",
       "      <th>2021-06-30</th>\n",
       "      <td>90.0</td>\n",
       "      <td>89.997890</td>\n",
       "      <td>0.002110</td>\n",
       "    </tr>\n",
       "  </tbody>\n",
       "</table>\n",
       "<p>674 rows × 3 columns</p>\n",
       "</div>"
      ],
      "text/plain": [
       "            actual  predictions      diff\n",
       "DATE                                     \n",
       "2022-08-01    80.0    87.149874  7.149874\n",
       "2022-05-18    81.0    87.860231  6.860231\n",
       "2022-08-14    95.0    89.018954  5.981046\n",
       "2022-04-13    86.0    90.483609  4.483609\n",
       "2022-09-24    94.0    89.706929  4.293071\n",
       "...            ...          ...       ...\n",
       "2021-12-07    90.0    89.991299  0.008701\n",
       "2021-12-08    90.0    90.005186  0.005186\n",
       "2021-09-25    90.0    89.995722  0.004278\n",
       "2022-03-16    95.0    94.996109  0.003891\n",
       "2021-06-30    90.0    89.997890  0.002110\n",
       "\n",
       "[674 rows x 3 columns]"
      ]
     },
     "execution_count": 74,
     "metadata": {},
     "output_type": "execute_result"
    }
   ],
   "source": [
    "comb_df.sort_values(\"diff\", ascending=False)"
   ]
  }
 ],
 "metadata": {
  "kernelspec": {
   "display_name": "Python 3 (ipykernel)",
   "language": "python",
   "name": "python3"
  },
  "language_info": {
   "codemirror_mode": {
    "name": "ipython",
    "version": 3
   },
   "file_extension": ".py",
   "mimetype": "text/x-python",
   "name": "python",
   "nbconvert_exporter": "python",
   "pygments_lexer": "ipython3",
   "version": "3.9.7"
  }
 },
 "nbformat": 4,
 "nbformat_minor": 5
}
